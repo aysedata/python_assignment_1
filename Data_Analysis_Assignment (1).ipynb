{
  "cells": [
    {
      "cell_type": "markdown",
      "metadata": {
        "id": "fepd5K3rAd-n"
      },
      "source": [
        "___\n",
        "\n",
        "<p style=\"text-align: center;\"><img src=\"https://docs.google.com/uc?id=1lY0Uj5R04yMY3-ZppPWxqCr5pvBLYPnV\" class=\"img-fluid\" \n",
        "alt=\"CLRSWY\"></p>\n",
        "\n",
        "## <p style=\"background-color:#FDFEFE; font-family:newtimeroman; color:#9d4f8c; font-size:100%; text-align:center; border-radius:10px 10px;\">WAY TO REINVENT YOURSELF</p>\n",
        "\n",
        "## <p style=\"background-color:#FDFEFE; font-family:newtimeroman; color:#060108; font-size:200%; text-align:center; border-radius:10px 10px;\">Data Analysis with Python</p>\n",
        "\n",
        "![Image_Assignment](https://i.ibb.co/cY9HhF7/bnote-assignment.gif)\n",
        "\n",
        "## <p style=\"background-color:#FDFEFE; font-family:newtimeroman; color:#4d77cf; font-size:200%; text-align:center; border-radius:10px 10px;\">Assignment 01 (NumPy & Pandas Basics)</p>"
      ]
    },
    {
      "cell_type": "markdown",
      "metadata": {
        "id": "cZG9Fht_ATJ2"
      },
      "source": [
        "<a id=\"toc\"></a>\n",
        "\n",
        "## <p style=\"background-color:#9d4f8c; font-family:newtimeroman; color:#FFF9ED; font-size:175%; text-align:center; border-radius:10px 10px;\">Content</p>\n",
        "\n",
        "* [NUMPY SECTION](#0)\n",
        "* [PANDAS SECTION](#1)\n"
      ]
    },
    {
      "cell_type": "markdown",
      "metadata": {
        "id": "lFoJR2iTAd-v"
      },
      "source": [
        "**In this assignment you will start off with Numpy Exercises and then complete the whole Exercise with Pandas questions. All the subjects related to questions here already covered in preclass materials and in-class sessions. So good luck!**"
      ]
    },
    {
      "cell_type": "markdown",
      "metadata": {
        "id": "Y7EvJ7QsATJ4"
      },
      "source": [
        "## <p style=\"background-color:#9d4f8c; font-family:newtimeroman; color:#FFF9ED; font-size:175%; text-align:center; border-radius:10px 10px;\">Numpy Section</p>\n",
        "\n",
        "<a id=\"0\"></a>\n",
        "<a href=\"#toc\" class=\"btn btn-primary btn-sm\" role=\"button\" aria-pressed=\"true\" \n",
        "style=\"color:blue; background-color:#dfa8e4\" data-toggle=\"popover\">Content</a>"
      ]
    },
    {
      "cell_type": "markdown",
      "metadata": {
        "id": "9LrbgcwYAd-w"
      },
      "source": [
        "### 1. Import NumPy Library."
      ]
    },
    {
      "cell_type": "code",
      "execution_count": 1,
      "metadata": {
        "id": "MymrsT_dAd-x"
      },
      "outputs": [],
      "source": [
        "# YOUR CODE IS HERE\n",
        "\n",
        "import numpy as np"
      ]
    },
    {
      "cell_type": "markdown",
      "metadata": {
        "id": "It1vT4JYAd-y"
      },
      "source": [
        "### 2. Create an array from my_list = [5, 10, 15, 20, 25]"
      ]
    },
    {
      "cell_type": "code",
      "execution_count": 2,
      "metadata": {
        "colab": {
          "base_uri": "https://localhost:8080/"
        },
        "id": "ec8R8FcbATJ7",
        "outputId": "5ede6a3f-e0b1-4bcf-927d-5626c77876d4"
      },
      "outputs": [
        {
          "output_type": "execute_result",
          "data": {
            "text/plain": [
              "array([ 5, 10, 15, 20, 25])"
            ]
          },
          "metadata": {},
          "execution_count": 2
        }
      ],
      "source": [
        "# YOUR CODE IS HERE\n",
        "\n",
        "# YOUR CODE IS HERE\n",
        "my_list = np.arange(5, 30, 5)\n",
        "my_list"
      ]
    },
    {
      "cell_type": "raw",
      "metadata": {
        "id": "dPndrpKOAd-z",
        "outputId": "fa4080ee-8528-454e-d834-2d13d49bbec2"
      },
      "source": [
        "Desired Output:\n",
        "\n",
        "array([ 5, 10, 15, 20, 25])"
      ]
    },
    {
      "cell_type": "markdown",
      "metadata": {
        "id": "1hVeq_fEAd-1"
      },
      "source": [
        "### 3. Generate an array of 5x5 with zeros. "
      ]
    },
    {
      "cell_type": "code",
      "execution_count": 3,
      "metadata": {
        "id": "Y0R-L8hBAd-2",
        "outputId": "7ba71448-e819-4397-aab6-0266c9bf9341",
        "colab": {
          "base_uri": "https://localhost:8080/"
        }
      },
      "outputs": [
        {
          "output_type": "execute_result",
          "data": {
            "text/plain": [
              "array([[0., 0., 0., 0., 0.],\n",
              "       [0., 0., 0., 0., 0.],\n",
              "       [0., 0., 0., 0., 0.],\n",
              "       [0., 0., 0., 0., 0.],\n",
              "       [0., 0., 0., 0., 0.]])"
            ]
          },
          "metadata": {},
          "execution_count": 3
        }
      ],
      "source": [
        "# YOUR CODE IS HERE\n",
        "\n",
        "np.zeros([5,5])"
      ]
    },
    {
      "cell_type": "raw",
      "metadata": {
        "id": "a5-vas8DATJ9"
      },
      "source": [
        "Desired Output:\n",
        "\n",
        "array([[0., 0., 0., 0., 0.],\n",
        "       [0., 0., 0., 0., 0.],\n",
        "       [0., 0., 0., 0., 0.],\n",
        "       [0., 0., 0., 0., 0.],\n",
        "       [0., 0., 0., 0., 0.]])"
      ]
    },
    {
      "cell_type": "markdown",
      "metadata": {
        "id": "lHhdpBa6Ad-3"
      },
      "source": [
        "### 4. Generate an array of 4x4 with ones and assign data type as int."
      ]
    },
    {
      "cell_type": "code",
      "execution_count": 4,
      "metadata": {
        "id": "s45bqkmOAd-3",
        "outputId": "358c502c-01a8-49fa-a1f7-a515be2f8ac2",
        "colab": {
          "base_uri": "https://localhost:8080/"
        }
      },
      "outputs": [
        {
          "output_type": "execute_result",
          "data": {
            "text/plain": [
              "array([[1, 1, 1, 1],\n",
              "       [1, 1, 1, 1],\n",
              "       [1, 1, 1, 1],\n",
              "       [1, 1, 1, 1]])"
            ]
          },
          "metadata": {},
          "execution_count": 4
        }
      ],
      "source": [
        "# YOUR CODE IS HERE\n",
        "np.ones([4, 4], dtype= int)"
      ]
    },
    {
      "cell_type": "raw",
      "metadata": {
        "id": "D7NEr9vEATJ-"
      },
      "source": [
        "Desired Output:\n",
        "\n",
        "array([[1, 1, 1, 1],\n",
        "       [1, 1, 1, 1],\n",
        "       [1, 1, 1, 1],\n",
        "       [1, 1, 1, 1]])"
      ]
    },
    {
      "cell_type": "markdown",
      "metadata": {
        "id": "1gD94nCeAd-5"
      },
      "source": [
        "### 5. Make all the values of the array above with the value of 7."
      ]
    },
    {
      "cell_type": "code",
      "execution_count": 5,
      "metadata": {
        "id": "L8fjsn5JAd-6",
        "outputId": "ba14b32e-0abe-45e8-8c8a-ac645ef1221c",
        "colab": {
          "base_uri": "https://localhost:8080/"
        }
      },
      "outputs": [
        {
          "output_type": "execute_result",
          "data": {
            "text/plain": [
              "array([[7, 7, 7, 7],\n",
              "       [7, 7, 7, 7],\n",
              "       [7, 7, 7, 7],\n",
              "       [7, 7, 7, 7]])"
            ]
          },
          "metadata": {},
          "execution_count": 5
        }
      ],
      "source": [
        "# YOUR CODE IS HERE\n",
        "\n",
        "arr = np.ones([4, 4], dtype = int)\n",
        "arr * 7"
      ]
    },
    {
      "cell_type": "raw",
      "metadata": {
        "id": "VfV2CyVeATJ_"
      },
      "source": [
        "Desired Output:\n",
        "\n",
        "array([[7, 7, 7, 7],\n",
        "       [7, 7, 7, 7],\n",
        "       [7, 7, 7, 7],\n",
        "       [7, 7, 7, 7]])"
      ]
    },
    {
      "cell_type": "markdown",
      "metadata": {
        "id": "XeOPD2dBAd-7"
      },
      "source": [
        "### 6. Create the previous array above by full() method."
      ]
    },
    {
      "cell_type": "code",
      "execution_count": 7,
      "metadata": {
        "id": "xqoPe_PJAd-7",
        "outputId": "a3e68f05-512f-4b4e-c410-378a92221819",
        "colab": {
          "base_uri": "https://localhost:8080/"
        }
      },
      "outputs": [
        {
          "output_type": "execute_result",
          "data": {
            "text/plain": [
              "array([[7, 7, 7, 7],\n",
              "       [7, 7, 7, 7],\n",
              "       [7, 7, 7, 7],\n",
              "       [7, 7, 7, 7]])"
            ]
          },
          "metadata": {},
          "execution_count": 7
        }
      ],
      "source": [
        "# YOUR CODE IS HERE\n",
        "np.full((4,4), 7)\n"
      ]
    },
    {
      "cell_type": "raw",
      "metadata": {
        "id": "s3N7ew9KATKA"
      },
      "source": [
        "Desired Output:\n",
        "\n",
        "array([[7, 7, 7, 7],\n",
        "       [7, 7, 7, 7],\n",
        "       [7, 7, 7, 7],\n",
        "       [7, 7, 7, 7]])"
      ]
    },
    {
      "cell_type": "markdown",
      "metadata": {
        "id": "G8_xFCyQAd-8"
      },
      "source": [
        "### 7. Create an array of even integers from 2 to 16 (inclusive). "
      ]
    },
    {
      "cell_type": "code",
      "execution_count": 8,
      "metadata": {
        "id": "Nu6VInWWAd-8",
        "outputId": "7071b9e6-13ea-4cb9-d879-c92427080ded",
        "colab": {
          "base_uri": "https://localhost:8080/"
        }
      },
      "outputs": [
        {
          "output_type": "execute_result",
          "data": {
            "text/plain": [
              "array([ 2,  4,  6,  8, 10, 12, 14, 16])"
            ]
          },
          "metadata": {},
          "execution_count": 8
        }
      ],
      "source": [
        "# YOUR CODE IS HERE\n",
        "\n",
        "np.arange(2, 17, 2)"
      ]
    },
    {
      "cell_type": "raw",
      "metadata": {
        "id": "BP-fbLHjATKB"
      },
      "source": [
        "Desired Output:\n",
        "\n",
        "array([ 2,  4,  6,  8, 10, 12, 14, 16])"
      ]
    },
    {
      "cell_type": "markdown",
      "metadata": {
        "id": "-SZvgEVVAd-9"
      },
      "source": [
        "### 8. Create a 5x5 matrix with the values between 0 to 25 (exclusive)."
      ]
    },
    {
      "cell_type": "code",
      "execution_count": 11,
      "metadata": {
        "id": "ddkmPCghAd--",
        "outputId": "d70f55c2-83a6-4cdd-b5a9-cbd778b384bf",
        "colab": {
          "base_uri": "https://localhost:8080/"
        }
      },
      "outputs": [
        {
          "output_type": "execute_result",
          "data": {
            "text/plain": [
              "array([ 0,  1,  2,  3,  4,  5,  6,  7,  8,  9, 10, 11, 12, 13, 14, 15, 16,\n",
              "       17, 18, 19, 20, 21, 22, 23, 24])"
            ]
          },
          "metadata": {},
          "execution_count": 11
        }
      ],
      "source": [
        "# YOUR CODE IS HERE\n",
        "\n",
        "arr = np.arange(0, 25)\n",
        "#arr\n",
        "np.array(arr).reshape(5,5)\n"
      ]
    },
    {
      "cell_type": "raw",
      "metadata": {
        "id": "BNxXnbIGATKC"
      },
      "source": [
        "Desired Output:\n",
        "\n",
        "array([[ 0,  1,  2,  3,  4],\n",
        "       [ 5,  6,  7,  8,  9],\n",
        "       [10, 11, 12, 13, 14],\n",
        "       [15, 16, 17, 18, 19],\n",
        "       [20, 21, 22, 23, 24]])"
      ]
    },
    {
      "cell_type": "markdown",
      "metadata": {
        "id": "-QuMw6v5Ad-_"
      },
      "source": [
        "### 9. Create a 5x5 matrix with the values between 0 to 25 (exclusive) using linspace method."
      ]
    },
    {
      "cell_type": "code",
      "execution_count": 12,
      "metadata": {
        "id": "4A195I5iAd_A",
        "outputId": "d7041936-c365-4757-a8ee-afe0410ea765",
        "colab": {
          "base_uri": "https://localhost:8080/"
        }
      },
      "outputs": [
        {
          "output_type": "execute_result",
          "data": {
            "text/plain": [
              "array([[ 0,  1,  2,  3,  4],\n",
              "       [ 5,  6,  7,  8,  9],\n",
              "       [10, 11, 12, 13, 14],\n",
              "       [15, 16, 17, 18, 19],\n",
              "       [20, 21, 22, 23, 25]])"
            ]
          },
          "metadata": {},
          "execution_count": 12
        }
      ],
      "source": [
        "# YOUR CODE IS HERE\n",
        "\n",
        "\n",
        "arr = np.linspace(0, 25, 25, dtype= int)\n",
        "np.array(arr).reshape(5,5)"
      ]
    },
    {
      "cell_type": "raw",
      "metadata": {
        "id": "yxLBNZ34ATKD"
      },
      "source": [
        "Desired Output:\n",
        "\n",
        "array([[ 0,  1,  2,  3,  4],\n",
        "       [ 5,  6,  7,  8,  9],\n",
        "       [10, 11, 12, 13, 14],\n",
        "       [15, 16, 17, 18, 19],\n",
        "       [20, 21, 22, 23, 24]])"
      ]
    },
    {
      "cell_type": "markdown",
      "metadata": {
        "id": "xL-eRUXEAd_B"
      },
      "source": [
        "### 10. Create randomly 5 numbers with numpy."
      ]
    },
    {
      "cell_type": "code",
      "execution_count": 15,
      "metadata": {
        "id": "0xda3LnLAd_B",
        "outputId": "68c1d36a-5216-46b0-b707-693e0b510031",
        "colab": {
          "base_uri": "https://localhost:8080/"
        }
      },
      "outputs": [
        {
          "output_type": "execute_result",
          "data": {
            "text/plain": [
              "array([0.6478612 , 0.30886177, 0.26454443, 0.7864945 , 0.95428427])"
            ]
          },
          "metadata": {},
          "execution_count": 15
        }
      ],
      "source": [
        "# YOUR CODE IS HERE\n",
        "np.random.rand(5)\n"
      ]
    },
    {
      "cell_type": "raw",
      "metadata": {
        "id": "71owlJsOATKE"
      },
      "source": [
        "Desired Output (WATCH OUT! Your output will probably NOT be the same as the one below due to randomization):\n",
        "\n",
        "array([0.69664494, 0.66387647, 0.97508534, 0.33818591, 0.58766187])"
      ]
    },
    {
      "cell_type": "markdown",
      "metadata": {
        "id": "JXiZjg06Ad_C"
      },
      "source": [
        "### 11. Create an array of 5*5 shape and fills it with random values as per the standard normal distribution."
      ]
    },
    {
      "cell_type": "code",
      "execution_count": 16,
      "metadata": {
        "id": "KeJDVElTAd_C",
        "outputId": "5e9783af-2a42-4e46-c0d0-07b7fb4ad75c",
        "colab": {
          "base_uri": "https://localhost:8080/"
        }
      },
      "outputs": [
        {
          "output_type": "execute_result",
          "data": {
            "text/plain": [
              "array([[ 0.63768516, -1.46615752, -0.25867316, -1.75784163,  0.61072867],\n",
              "       [ 0.39720594,  0.37987825, -0.08174636,  0.23278473,  0.73020712],\n",
              "       [ 0.80464339,  0.2652402 ,  1.97300488,  0.6649575 , -1.1650935 ],\n",
              "       [-1.35089555,  0.0184891 ,  1.3328108 , -0.9976534 , -0.60715548],\n",
              "       [ 0.08032044, -0.91583167, -1.03496532, -0.01697815,  1.03950319]])"
            ]
          },
          "metadata": {},
          "execution_count": 16
        }
      ],
      "source": [
        "# YOUR CODE IS HERE\n",
        "\n",
        "arr = np.random.randn(25)\n",
        "np.array(arr).reshape(5, 5)"
      ]
    },
    {
      "cell_type": "raw",
      "metadata": {
        "id": "3iRjnjOOATKF"
      },
      "source": [
        "Desired Output (WATCH OUT! Your output will probably NOT be the same as the one below due to randomization):\n",
        "\n",
        "array([[ 0.73087006, -0.34675846, -1.03601606, -0.61227298, -0.57078798],\n",
        "       [ 1.85976917, -0.37158111, -1.16789003, -0.81271697,  1.39620977],\n",
        "       [ 0.52695367, -0.19017673,  0.78067235, -1.3520313 ,  0.44878344],\n",
        "       [ 0.27758877,  0.75391726, -0.52652875,  0.74519765, -0.40414682],\n",
        "       [ 0.12743864, -0.81637521,  0.14086653, -0.29524574,  0.12703938]])"
      ]
    },
    {
      "cell_type": "markdown",
      "metadata": {
        "id": "iHRAL69DAd_D"
      },
      "source": [
        "### 12. Create a 3*4 array of random int numbers between 20 and 50."
      ]
    },
    {
      "cell_type": "code",
      "execution_count": 17,
      "metadata": {
        "id": "19owhlhjAd_D",
        "outputId": "e2f13278-de93-4d47-d31c-139996f91a05",
        "colab": {
          "base_uri": "https://localhost:8080/"
        }
      },
      "outputs": [
        {
          "output_type": "execute_result",
          "data": {
            "text/plain": [
              "array([[45, 22, 44, 39],\n",
              "       [28, 20, 20, 23],\n",
              "       [38, 36, 25, 28]])"
            ]
          },
          "metadata": {},
          "execution_count": 17
        }
      ],
      "source": [
        "# YOUR CODE IS HERE\n",
        "\n",
        "arr = np.random.randint(20, 50, size = 12)\n",
        "np.array(arr).reshape(3, 4)\n"
      ]
    },
    {
      "cell_type": "raw",
      "metadata": {
        "id": "zcxlgM0iATKG"
      },
      "source": [
        "Desired Output (WATCH OUT! Your output will probably NOT be the same as the one below due to randomization):\n",
        "\n",
        "array([[33, 39, 47, 26],\n",
        "       [41, 20, 32, 23],\n",
        "       [25, 22, 41, 28]])"
      ]
    },
    {
      "cell_type": "markdown",
      "metadata": {
        "id": "XpsHE5BsAd_E"
      },
      "source": [
        "### 13. Create an array named \"ranarr\"consisting of randomly 48 numbers and reshape this array with the shape of 6x8 in different ways."
      ]
    },
    {
      "cell_type": "code",
      "execution_count": 19,
      "metadata": {
        "id": "8DWl1ExmAd_E",
        "outputId": "c6b06f76-1837-493a-87c0-1ee78d1bc36d",
        "colab": {
          "base_uri": "https://localhost:8080/"
        }
      },
      "outputs": [
        {
          "output_type": "execute_result",
          "data": {
            "text/plain": [
              "array([[ 3, 14, 47, 47, 18, 35, 45, 19],\n",
              "       [ 1, 20, 29, 35, 33, 11, 49,  6],\n",
              "       [22,  3, 10, 24,  8, 43, 24, 17],\n",
              "       [30, 11, 43, 41,  1, 39, 48, 37],\n",
              "       [36, 11,  2,  8, 21, 17, 43,  3],\n",
              "       [41,  6,  5, 46,  9,  5, 35,  7]])"
            ]
          },
          "metadata": {},
          "execution_count": 19
        }
      ],
      "source": [
        "# YOUR CODE IS HERE\n",
        "\n",
        "ranarr = np.random.randint(50, size = 48)\n",
        "np.array(ranarr)\n",
        "np.array(ranarr).reshape(6, 8)\n"
      ]
    },
    {
      "cell_type": "raw",
      "metadata": {
        "id": "oL0t_50QATKG"
      },
      "source": [
        "Desired Output (WATCH OUT! Your output may NOT be the same as the one):\n",
        "\n",
        "array([ 6, 21, 18, 53, 38, 37, 30, 47, 19, 44, 29, 12, 14, 37, 24, 14, 16,\n",
        "       18,  3, 19, 19, 41, 28, 41,  3, 47,  4, 18, 27, 44, 15, 21,  5, 55,\n",
        "       38,  9,  5, 50, 15, 20,  7, 26, 45, 39, 37, 23,  6, 10])"
      ]
    },
    {
      "cell_type": "code",
      "execution_count": 20,
      "metadata": {
        "id": "3YxAvl1zAd_E",
        "outputId": "93cb2e1a-6014-40a5-e51f-417a6ec32c54",
        "colab": {
          "base_uri": "https://localhost:8080/"
        }
      },
      "outputs": [
        {
          "output_type": "execute_result",
          "data": {
            "text/plain": [
              "array([[ 3, 14, 47, 47, 18, 35],\n",
              "       [45, 19,  1, 20, 29, 35],\n",
              "       [33, 11, 49,  6, 22,  3],\n",
              "       [10, 24,  8, 43, 24, 17],\n",
              "       [30, 11, 43, 41,  1, 39],\n",
              "       [48, 37, 36, 11,  2,  8],\n",
              "       [21, 17, 43,  3, 41,  6],\n",
              "       [ 5, 46,  9,  5, 35,  7]])"
            ]
          },
          "metadata": {},
          "execution_count": 20
        }
      ],
      "source": [
        "# YOUR CODE IS HERE (RESHAPING WITH NUM)\n",
        "\n",
        "np.array(ranarr).reshape(8,6)"
      ]
    },
    {
      "cell_type": "raw",
      "metadata": {
        "id": "wQqtcTKCATKH"
      },
      "source": [
        "Desired Output (WATCH OUT! Your output may NOT be the same as the one):\n",
        "\n",
        "array([[ 6, 21, 18, 53, 38, 37, 30, 47],\n",
        "       [19, 44, 29, 12, 14, 37, 24, 14],\n",
        "       [16, 18,  3, 19, 19, 41, 28, 41],\n",
        "       [ 3, 47,  4, 18, 27, 44, 15, 21],\n",
        "       [ 5, 55, 38,  9,  5, 50, 15, 20],\n",
        "       [ 7, 26, 45, 39, 37, 23,  6, 10]])"
      ]
    },
    {
      "cell_type": "code",
      "execution_count": null,
      "metadata": {
        "id": "5PJczaI-Ad_F",
        "outputId": "a0d7a7a9-4173-49f5-858e-2ff69a497e63"
      },
      "outputs": [
        {
          "data": {
            "text/plain": [
              "array([[17, 18,  4, 15,  2, 10,  9,  1,  2,  1, 37, 32, 47, 13, 37, 12],\n",
              "       [25,  0, 10, 19,  7, 46,  1, 40, 26, 12, 37,  3, 15, 16, 38, 34],\n",
              "       [23, 27, 38, 35, 15, 25, 30, 39, 34, 44, 24, 10, 32, 23, 24, 35]])"
            ]
          },
          "execution_count": 15,
          "metadata": {},
          "output_type": "execute_result"
        }
      ],
      "source": [
        "# YOUR CODE IS HERE (RESHAPING WITH -1)\n",
        "np.array(ranarr).reshape(3,16)\n"
      ]
    },
    {
      "cell_type": "raw",
      "metadata": {
        "id": "nSyL38YZATKH"
      },
      "source": [
        "Desired Output (WATCH OUT! Your output may NOT be the same as the one):\n",
        "\n",
        "array([[ 6, 21, 18, 53, 38, 37, 30, 47],\n",
        "       [19, 44, 29, 12, 14, 37, 24, 14],\n",
        "       [16, 18,  3, 19, 19, 41, 28, 41],\n",
        "       [ 3, 47,  4, 18, 27, 44, 15, 21],\n",
        "       [ 5, 55, 38,  9,  5, 50, 15, 20],\n",
        "       [ 7, 26, 45, 39, 37, 23,  6, 10]])"
      ]
    },
    {
      "cell_type": "code",
      "execution_count": null,
      "metadata": {
        "id": "J-8_nuigATKI",
        "outputId": "24c458a3-9b39-47ab-9913-2e61de2b56c0"
      },
      "outputs": [
        {
          "data": {
            "text/plain": [
              "array([[17, 18,  4, 15],\n",
              "       [ 2, 10,  9,  1],\n",
              "       [ 2,  1, 37, 32],\n",
              "       [47, 13, 37, 12],\n",
              "       [25,  0, 10, 19],\n",
              "       [ 7, 46,  1, 40],\n",
              "       [26, 12, 37,  3],\n",
              "       [15, 16, 38, 34],\n",
              "       [23, 27, 38, 35],\n",
              "       [15, 25, 30, 39],\n",
              "       [34, 44, 24, 10],\n",
              "       [32, 23, 24, 35]])"
            ]
          },
          "execution_count": 16,
          "metadata": {},
          "output_type": "execute_result"
        }
      ],
      "source": [
        "# YOUR CODE IS HERE (RESHAPING WITH -1)\n",
        "\n",
        "np.array(ranarr).reshape(12,4)"
      ]
    },
    {
      "cell_type": "raw",
      "metadata": {
        "id": "ESdnOCSIATKI"
      },
      "source": [
        "Desired Output (WATCH OUT! Your output may NOT be the same as the one):\n",
        "\n",
        "array([[ 6, 21, 18, 53, 38, 37, 30, 47],\n",
        "       [19, 44, 29, 12, 14, 37, 24, 14],\n",
        "       [16, 18,  3, 19, 19, 41, 28, 41],\n",
        "       [ 3, 47,  4, 18, 27, 44, 15, 21],\n",
        "       [ 5, 55, 38,  9,  5, 50, 15, 20],\n",
        "       [ 7, 26, 45, 39, 37, 23,  6, 10]])"
      ]
    },
    {
      "cell_type": "markdown",
      "metadata": {
        "id": "jB4suWaXAd_F"
      },
      "source": [
        "## Numpy Indexing and Selection"
      ]
    },
    {
      "cell_type": "markdown",
      "metadata": {
        "id": "5bucoPZqATKI"
      },
      "source": [
        "### Create an array named \"mat\" in accordence with the desired output below."
      ]
    },
    {
      "cell_type": "code",
      "execution_count": 24,
      "metadata": {
        "id": "x2zNGxNkAd_F",
        "outputId": "1c0b381e-5d71-44e2-ff80-52a9e69cee77",
        "colab": {
          "base_uri": "https://localhost:8080/"
        }
      },
      "outputs": [
        {
          "output_type": "execute_result",
          "data": {
            "text/plain": [
              "array([[ 1,  2,  3,  4],\n",
              "       [ 5,  6,  7,  8],\n",
              "       [ 9, 10, 11, 12],\n",
              "       [13, 14, 15, 16]])"
            ]
          },
          "metadata": {},
          "execution_count": 24
        }
      ],
      "source": [
        "# YOUR CODE IS HERE \n",
        "liste = np.arange(1, 17)\n",
        "mat = np.array(liste).reshape(4, 4)\n",
        "mat_ = mat\n",
        "mat"
      ]
    },
    {
      "cell_type": "raw",
      "metadata": {
        "id": "hWaQaAEUATKJ"
      },
      "source": [
        "Desired Output:\n",
        "\n",
        "array([[ 1,  2,  3,  4],\n",
        "       [ 5,  6,  7,  8],\n",
        "       [ 9, 10, 11, 12],\n",
        "       [13, 14, 15, 16]])"
      ]
    },
    {
      "cell_type": "markdown",
      "metadata": {
        "id": "wyNXBC0GAd_G"
      },
      "source": [
        "### 14. Using the array above, write a code that reproduces the desired output shown below.<br>"
      ]
    },
    {
      "cell_type": "code",
      "execution_count": 25,
      "metadata": {
        "id": "k6FmQqjxAd_G",
        "outputId": "4261cc66-f547-4ac5-9ca0-4e8183f85334",
        "colab": {
          "base_uri": "https://localhost:8080/"
        }
      },
      "outputs": [
        {
          "output_type": "execute_result",
          "data": {
            "text/plain": [
              "array([[ 6,  7],\n",
              "       [10, 11]])"
            ]
          },
          "metadata": {},
          "execution_count": 25
        }
      ],
      "source": [
        "# YOUR CODE IS HERE \n",
        "np.array([[6, 7], [10, 11]])"
      ]
    },
    {
      "cell_type": "raw",
      "metadata": {
        "id": "7FQY0nzDATKJ"
      },
      "source": [
        "Desired Output:\n",
        "\n",
        "array([[ 6,  7],\n",
        "       [10, 11]])"
      ]
    },
    {
      "cell_type": "markdown",
      "metadata": {
        "id": "bUShSGkJAd_G"
      },
      "source": [
        "### 15. Get the 1st column (index number 0) of the array above."
      ]
    },
    {
      "cell_type": "code",
      "execution_count": 26,
      "metadata": {
        "id": "Wv7YR2drAd_G",
        "outputId": "4d09e935-0660-4c2d-b401-fbc7c303dcf2",
        "colab": {
          "base_uri": "https://localhost:8080/"
        }
      },
      "outputs": [
        {
          "output_type": "execute_result",
          "data": {
            "text/plain": [
              "array([ 1,  5,  9, 13])"
            ]
          },
          "metadata": {},
          "execution_count": 26
        }
      ],
      "source": [
        "# YOUR CODE IS HERE \n",
        "mat[::, 0]"
      ]
    },
    {
      "cell_type": "raw",
      "metadata": {
        "id": "_THe9KmfATKK"
      },
      "source": [
        "Desired Output:\n",
        "\n",
        "array([ 1,  5,  9, 13])"
      ]
    },
    {
      "cell_type": "markdown",
      "metadata": {
        "id": "GGdWljRJAd_H"
      },
      "source": [
        "### 16. Get the values in 2nd row (index number 1) for every 2 step."
      ]
    },
    {
      "cell_type": "code",
      "execution_count": null,
      "metadata": {
        "id": "7e6tP0NlAd_H",
        "outputId": "9f87347e-cd6a-4d36-ab1b-e180d13fc3e2"
      },
      "outputs": [
        {
          "data": {
            "text/plain": [
              "array([5, 7])"
            ]
          },
          "execution_count": 20,
          "metadata": {},
          "output_type": "execute_result"
        }
      ],
      "source": [
        "# YOUR CODE IS HERE \n",
        "mat[1, 0:3:2]"
      ]
    },
    {
      "cell_type": "raw",
      "metadata": {
        "id": "0rbEuVVoATKL"
      },
      "source": [
        "Desired Output:\n",
        "\n",
        "array([5, 7])"
      ]
    },
    {
      "cell_type": "markdown",
      "metadata": {
        "id": "aANYlDooAd_H"
      },
      "source": [
        "### 17.Assign 77 to every cell in 3rd column."
      ]
    },
    {
      "cell_type": "code",
      "execution_count": 27,
      "metadata": {
        "id": "oy5AxrK1Ad_I",
        "outputId": "b19e702d-8bf2-4601-c45e-d307842d29f8",
        "colab": {
          "base_uri": "https://localhost:8080/"
        }
      },
      "outputs": [
        {
          "output_type": "execute_result",
          "data": {
            "text/plain": [
              "array([[ 1,  2, 77,  4],\n",
              "       [ 5,  6, 77,  8],\n",
              "       [ 9, 10, 77, 12],\n",
              "       [13, 14, 77, 16]])"
            ]
          },
          "metadata": {},
          "execution_count": 27
        }
      ],
      "source": [
        "# YOUR CODE IS HERE \n",
        "for i in mat:\n",
        "    i[2] = 77\n",
        "mat"
      ]
    },
    {
      "cell_type": "raw",
      "metadata": {
        "id": "4OY0zcyYATKL"
      },
      "source": [
        "Desired Output:\n",
        "\n",
        "array([[ 1,  2, 77,  4],\n",
        "       [ 5,  6, 77,  8],\n",
        "       [ 9, 10, 77, 12],\n",
        "       [13, 14, 77, 16]])"
      ]
    },
    {
      "cell_type": "markdown",
      "metadata": {
        "id": "OsrIo34xAd_I"
      },
      "source": [
        "### 18. (a) Take 2nd row (index number 1) and 1st column (index number 0) , (b) 4th row (index number 3) and 3rd column (index number 2) ."
      ]
    },
    {
      "cell_type": "code",
      "execution_count": 28,
      "metadata": {
        "id": "fESSmtPDAd_I",
        "outputId": "9864aa89-cbe8-46bb-e890-37ca1274ef70",
        "colab": {
          "base_uri": "https://localhost:8080/"
        }
      },
      "outputs": [
        {
          "output_type": "execute_result",
          "data": {
            "text/plain": [
              "array([ 5, 77])"
            ]
          },
          "metadata": {},
          "execution_count": 28
        }
      ],
      "source": [
        "# YOUR CODE IS HERE \n",
        "mat[[1, 3], [0, 2]]"
      ]
    },
    {
      "cell_type": "raw",
      "metadata": {
        "id": "X3STM9k9ATKQ"
      },
      "source": [
        "Desired Output:\n",
        "\n",
        "array([ 5, 77])"
      ]
    },
    {
      "cell_type": "markdown",
      "metadata": {
        "id": "dsZDs5vjAd_J"
      },
      "source": [
        "### 19. Take between 2nd and last row with step 2 and between 1st and last column with step 2."
      ]
    },
    {
      "cell_type": "code",
      "execution_count": 29,
      "metadata": {
        "id": "0IW0GtfCAd_J",
        "outputId": "fecd901b-8d94-4da6-ea47-ed182a5a448b",
        "colab": {
          "base_uri": "https://localhost:8080/"
        }
      },
      "outputs": [
        {
          "output_type": "execute_result",
          "data": {
            "text/plain": [
              "array([[ 5, 77],\n",
              "       [13, 77]])"
            ]
          },
          "metadata": {},
          "execution_count": 29
        }
      ],
      "source": [
        "# YOUR CODE IS HERE \n",
        "mat[1::2, 0::2] "
      ]
    },
    {
      "cell_type": "raw",
      "metadata": {
        "id": "WDOjfX4dATKR"
      },
      "source": [
        "Desired Output:\n",
        "\n",
        "array([[ 5, 77],\n",
        "       [13, 77]])"
      ]
    },
    {
      "cell_type": "markdown",
      "metadata": {
        "id": "G1aoEVaJAd_J"
      },
      "source": [
        "## NumPy Operations"
      ]
    },
    {
      "cell_type": "markdown",
      "metadata": {
        "id": "2p7ZbeTLAd_K"
      },
      "source": [
        "### 20. Get the sum of values smaller than 10 and values bigger than 12 in \"mat\"."
      ]
    },
    {
      "cell_type": "code",
      "execution_count": 30,
      "metadata": {
        "colab": {
          "base_uri": "https://localhost:8080/"
        },
        "id": "DEJu_kozATKR",
        "outputId": "307fd924-374d-45e6-be3d-a56f51518382"
      },
      "outputs": [
        {
          "output_type": "execute_result",
          "data": {
            "text/plain": [
              "array([[ 1,  2, 77,  4],\n",
              "       [ 5,  6, 77,  8],\n",
              "       [ 9, 10, 77, 12],\n",
              "       [13, 14, 77, 16]])"
            ]
          },
          "metadata": {},
          "execution_count": 30
        }
      ],
      "source": [
        "# LET US REMEMBER OUR ARRAY OF \"mat\" \n",
        "\n",
        "# YOUR CODE IS HERE \n",
        "\n",
        "mat"
      ]
    },
    {
      "cell_type": "raw",
      "metadata": {
        "id": "g-in_oZxATKS"
      },
      "source": [
        "Desired Output:\n",
        "\n",
        "array([[ 1,  2, 77,  4],\n",
        "       [ 5,  6, 77,  8],\n",
        "       [ 9, 10, 77, 12],\n",
        "       [13, 14, 77, 16]])"
      ]
    },
    {
      "cell_type": "code",
      "execution_count": 34,
      "metadata": {
        "id": "LD_0rzT6Ad_K",
        "outputId": "e2cf985f-0569-4f4a-adc0-66aa4c73806b",
        "colab": {
          "base_uri": "https://localhost:8080/"
        }
      },
      "outputs": [
        {
          "output_type": "execute_result",
          "data": {
            "text/plain": [
              "array([1, 2, 4, 5, 6, 8, 9])"
            ]
          },
          "metadata": {},
          "execution_count": 34
        }
      ],
      "source": [
        "#THE VALUES SMALLER THAN 10 IN \"mat\" \n",
        "\n",
        "\n",
        "\n",
        "a = mat[mat < 10]\n",
        "a"
      ]
    },
    {
      "cell_type": "raw",
      "metadata": {
        "id": "yt5qJciIATKS"
      },
      "source": [
        "Desired Output:\n",
        "\n",
        "array([1, 2, 4, 5, 6, 8, 9])"
      ]
    },
    {
      "cell_type": "code",
      "execution_count": 33,
      "metadata": {
        "id": "RIpotHKeAd_K",
        "outputId": "01ff95e0-1b42-45bf-d604-6b5f1804cd13",
        "colab": {
          "base_uri": "https://localhost:8080/"
        }
      },
      "outputs": [
        {
          "output_type": "execute_result",
          "data": {
            "text/plain": [
              "array([77, 77, 77, 13, 14, 77, 16])"
            ]
          },
          "metadata": {},
          "execution_count": 33
        }
      ],
      "source": [
        "#THE VALUES BIGGER THAN 12 IN \"mat\" \n",
        "\n",
        "\n",
        "b = mat[mat > 12]\n",
        "b"
      ]
    },
    {
      "cell_type": "raw",
      "metadata": {
        "id": "-7rWJM1XATKS"
      },
      "source": [
        "Desired Output:\n",
        "\n",
        "array([77, 77, 77, 13, 14, 77, 16])"
      ]
    },
    {
      "cell_type": "code",
      "execution_count": 35,
      "metadata": {
        "id": "m4XkRQFiAd_K",
        "outputId": "ac7b5511-b454-4d4c-e9d0-232bb3305e73",
        "colab": {
          "base_uri": "https://localhost:8080/"
        }
      },
      "outputs": [
        {
          "output_type": "execute_result",
          "data": {
            "text/plain": [
              "array([78, 79, 81, 18, 20, 85, 25])"
            ]
          },
          "metadata": {},
          "execution_count": 35
        }
      ],
      "source": [
        "#  SUM OF THE VALUES SMALLER THAN 10 AND BIGGER THAN 12 IN \"mat\" \n",
        "\n",
        "# YOUR CODE IS HERE \n",
        "result = np.add(a, b)\n",
        "result\n"
      ]
    },
    {
      "cell_type": "raw",
      "metadata": {
        "id": "1d0jPLLQATKT"
      },
      "source": [
        "Desired Output:\n",
        "\n",
        "array([78, 79, 81, 18, 20, 85, 25])"
      ]
    },
    {
      "cell_type": "markdown",
      "metadata": {
        "id": "adWvgD-oAd_L"
      },
      "source": [
        "### 21. Get the standard deviation (std) of the result above."
      ]
    },
    {
      "cell_type": "code",
      "execution_count": null,
      "metadata": {
        "id": "96DAIF1fAd_L",
        "outputId": "27f5488e-f23b-4829-fe19-66e42978d877"
      },
      "outputs": [
        {
          "data": {
            "text/plain": [
              "29.700546274093877"
            ]
          },
          "execution_count": 28,
          "metadata": {},
          "output_type": "execute_result"
        }
      ],
      "source": [
        "# YOUR CODE IS HERE \n",
        "\n",
        "np.std(result)"
      ]
    },
    {
      "cell_type": "raw",
      "metadata": {
        "id": "YrhL0pp5ATKT"
      },
      "source": [
        "Desired Output:\n",
        "\n",
        "29.700546274093877"
      ]
    },
    {
      "cell_type": "markdown",
      "metadata": {
        "id": "FkhK2cOqAd_L"
      },
      "source": [
        "### 22. Get the sum of the 2nd column in the original \"mat\"."
      ]
    },
    {
      "cell_type": "code",
      "execution_count": 36,
      "metadata": {
        "id": "XDQqGSzkAd_M",
        "outputId": "ccc0e331-bf9a-42b6-c013-3f975318a7d2",
        "colab": {
          "base_uri": "https://localhost:8080/"
        }
      },
      "outputs": [
        {
          "output_type": "execute_result",
          "data": {
            "text/plain": [
              "array([[ 1,  2, 77,  4],\n",
              "       [ 5,  6, 77,  8],\n",
              "       [ 9, 10, 77, 12],\n",
              "       [13, 14, 77, 16]])"
            ]
          },
          "metadata": {},
          "execution_count": 36
        }
      ],
      "source": [
        "# ARRAY OF \"mat\" \n",
        "\n",
        "mat\n"
      ]
    },
    {
      "cell_type": "raw",
      "metadata": {
        "id": "sbnQv2AbATKU"
      },
      "source": [
        "Desired Output:\n",
        "\n",
        "array([[ 1,  2, 77,  4],\n",
        "       [ 5,  6, 77,  8],\n",
        "       [ 9, 10, 77, 12],\n",
        "       [13, 14, 77, 16]])"
      ]
    },
    {
      "cell_type": "raw",
      "metadata": {
        "id": "4LWoClAoATKU"
      },
      "source": [
        "Desired Output:\n",
        "\n",
        "array([[ 1,  2,  3,  4],\n",
        "       [ 5,  6,  7,  8],\n",
        "       [ 9, 10, 11, 12],\n",
        "       [13, 14, 15, 16]])"
      ]
    },
    {
      "cell_type": "code",
      "execution_count": 37,
      "metadata": {
        "id": "xzqyV2SZAd_M",
        "outputId": "433222f7-46ea-4aee-e9b4-f782b1973f51",
        "scrolled": true,
        "colab": {
          "base_uri": "https://localhost:8080/"
        }
      },
      "outputs": [
        {
          "output_type": "execute_result",
          "data": {
            "text/plain": [
              "32"
            ]
          },
          "metadata": {},
          "execution_count": 37
        }
      ],
      "source": [
        "# YOUR CODE IS HERE \n",
        "\n",
        "np.sum(mat_[::, 1])"
      ]
    },
    {
      "cell_type": "raw",
      "metadata": {
        "id": "ZQY3rbBPATKV"
      },
      "source": [
        "Desired Output:\n",
        "\n",
        "32"
      ]
    },
    {
      "cell_type": "markdown",
      "metadata": {
        "id": "kCQ1GvPUAd_N"
      },
      "source": [
        "### 23. Get the median, mean and std of 3rd column in \"mat\"."
      ]
    },
    {
      "cell_type": "code",
      "execution_count": 38,
      "metadata": {
        "colab": {
          "base_uri": "https://localhost:8080/"
        },
        "id": "_ZiaVhoAATKV",
        "outputId": "33001db4-102a-4eed-f997-61888eb0d4ee"
      },
      "outputs": [
        {
          "output_type": "execute_result",
          "data": {
            "text/plain": [
              "array([[ 1,  2, 77,  4],\n",
              "       [ 5,  6, 77,  8],\n",
              "       [ 9, 10, 77, 12],\n",
              "       [13, 14, 77, 16]])"
            ]
          },
          "metadata": {},
          "execution_count": 38
        }
      ],
      "source": [
        "#  ARRAY OF \"mat\" \n",
        "\n",
        "\n",
        "mat_"
      ]
    },
    {
      "cell_type": "raw",
      "metadata": {
        "id": "fikefSKxATKV"
      },
      "source": [
        "Desired Output:\n",
        "\n",
        "array([[ 1,  2,  3,  4],\n",
        "       [ 5,  6,  7,  8],\n",
        "       [ 9, 10, 11, 12],\n",
        "       [13, 14, 15, 16]])"
      ]
    },
    {
      "cell_type": "code",
      "execution_count": 43,
      "metadata": {
        "colab": {
          "base_uri": "https://localhost:8080/"
        },
        "id": "OIxF9HxfATKV",
        "outputId": "67802768-1ac7-4625-ed99-97ffb1bd39e7"
      },
      "outputs": [
        {
          "output_type": "execute_result",
          "data": {
            "text/plain": [
              "array([[77],\n",
              "       [77],\n",
              "       [77],\n",
              "       [77]])"
            ]
          },
          "metadata": {},
          "execution_count": 43
        }
      ],
      "source": [
        "# ASSIGN THE COLUMN WE ARE INTERESTED IN TO A VARIABLE \n",
        "\n",
        "# YOUR CODE IS HERE \n",
        "\n",
        "var1 = mat_[::, 2].reshape(4, 1)\n",
        "var1"
      ]
    },
    {
      "cell_type": "raw",
      "metadata": {
        "id": "LuZWUSPsATKW"
      },
      "source": [
        "Desired Output:\n",
        "\n",
        "array([[ 3],\n",
        "       [ 7],\n",
        "       [11],\n",
        "       [15]])"
      ]
    },
    {
      "cell_type": "code",
      "execution_count": 44,
      "metadata": {
        "colab": {
          "base_uri": "https://localhost:8080/"
        },
        "id": "KlLLumlRATKW",
        "outputId": "90bd82e9-d385-465f-d10d-c96ae49c5f67"
      },
      "outputs": [
        {
          "output_type": "execute_result",
          "data": {
            "text/plain": [
              "array([ 9, 10, 77, 12])"
            ]
          },
          "metadata": {},
          "execution_count": 44
        }
      ],
      "source": [
        "# 3RD ROW \n",
        "\n",
        "# YOUR CODE IS HERE \n",
        "\n",
        "mat_[2]"
      ]
    },
    {
      "cell_type": "raw",
      "metadata": {
        "id": "Iqg2IgoLATKW"
      },
      "source": [
        "Desired Output:\n",
        "\n",
        "array([ 9, 10, 11, 12])"
      ]
    },
    {
      "cell_type": "code",
      "execution_count": 45,
      "metadata": {
        "id": "OX4fqkipAd_N",
        "outputId": "c8b0fa33-cd9b-42ef-cff0-c23d3f7ba8ef",
        "colab": {
          "base_uri": "https://localhost:8080/"
        }
      },
      "outputs": [
        {
          "output_type": "stream",
          "name": "stdout",
          "text": [
            "11.0\n"
          ]
        }
      ],
      "source": [
        "# MEDIAN VALUE \n",
        "print(np.median(mat_[2]))\n"
      ]
    },
    {
      "cell_type": "raw",
      "metadata": {
        "id": "NH0_1PsxATKW"
      },
      "source": [
        "Desired Output:\n",
        "\n",
        "9.0\n",
        "10.5"
      ]
    },
    {
      "cell_type": "code",
      "execution_count": 46,
      "metadata": {
        "id": "oZpsC7rFAd_N",
        "outputId": "6bf1b037-0a6a-4a0c-ebc9-8e24b760e13f",
        "colab": {
          "base_uri": "https://localhost:8080/"
        }
      },
      "outputs": [
        {
          "output_type": "stream",
          "name": "stdout",
          "text": [
            "27.0\n"
          ]
        }
      ],
      "source": [
        "#  MEAN VALUE \n",
        "\n",
        "\n",
        "\n",
        "print(np.mean(mat_[2]))\n"
      ]
    },
    {
      "cell_type": "raw",
      "metadata": {
        "id": "4sSR8SKsATKX"
      },
      "source": [
        "Desired Output:\n",
        "\n",
        "9.0\n",
        "10.5"
      ]
    },
    {
      "cell_type": "code",
      "execution_count": 47,
      "metadata": {
        "id": "g8bveYJuAd_O",
        "outputId": "d7869092-4d0c-4242-a907-227b19d29022",
        "colab": {
          "base_uri": "https://localhost:8080/"
        }
      },
      "outputs": [
        {
          "output_type": "stream",
          "name": "stdout",
          "text": [
            "28.88771365130858\n"
          ]
        }
      ],
      "source": [
        "# STANDART DEVIATION (std) VALUE \n",
        "\n",
        "# YOUR CODE IS HERE \n",
        "\n",
        "\n",
        "print(np.std(mat_[2]))"
      ]
    },
    {
      "cell_type": "code",
      "source": [
        ""
      ],
      "metadata": {
        "id": "AHZd0nHqDRnx"
      },
      "execution_count": null,
      "outputs": []
    },
    {
      "cell_type": "raw",
      "metadata": {
        "id": "Otr5r9WKATKY"
      },
      "source": [
        "Desired Output:\n",
        "\n",
        "4.47213595499958\n",
        "1.118033988749895"
      ]
    },
    {
      "cell_type": "markdown",
      "metadata": {
        "collapsed": true,
        "id": "gZ5HUfC4Ad_O"
      },
      "source": [
        "## <p style=\"background-color:#9d4f8c; font-family:newtimeroman; color:#FFF9ED; font-size:175%; text-align:center; border-radius:10px 10px;\">Pandas Section</p>\n",
        "\n",
        "<a id=\"1\"></a>\n",
        "<a href=\"#toc\" class=\"btn btn-primary btn-sm\" role=\"button\" aria-pressed=\"true\" \n",
        "style=\"color:blue; background-color:#dfa8e4\" data-toggle=\"popover\">Content</a>"
      ]
    },
    {
      "cell_type": "markdown",
      "metadata": {
        "id": "8jBMjXZjATKY"
      },
      "source": [
        "### Import Pandas Library"
      ]
    },
    {
      "cell_type": "code",
      "execution_count": 53,
      "metadata": {
        "id": "lrbS4u52Ad_P"
      },
      "outputs": [],
      "source": [
        "import pandas as pd"
      ]
    },
    {
      "cell_type": "markdown",
      "metadata": {
        "id": "eacrpv_7Ad_P"
      },
      "source": [
        "### Read Salaries.csv and take a look at the first 5 rows, df info and df statistical measurements.*"
      ]
    },
    {
      "cell_type": "code",
      "execution_count": 54,
      "metadata": {
        "id": "OP4b0LcTAd_P"
      },
      "outputs": [],
      "source": [
        "# READ Salaries.csv\n",
        "\n",
        "df = pd.read_csv(\"Salaries.csv\")"
      ]
    },
    {
      "cell_type": "code",
      "execution_count": 55,
      "metadata": {
        "id": "qc6Tt4loAd_Q",
        "outputId": "9dc6487f-dc76-4a89-bea3-e88fe06aafce",
        "colab": {
          "base_uri": "https://localhost:8080/",
          "height": 337
        }
      },
      "outputs": [
        {
          "output_type": "execute_result",
          "data": {
            "text/plain": [
              "   Id       EmployeeName                                        JobTitle  \\\n",
              "0   1     NATHANIEL FORD  GENERAL MANAGER-METROPOLITAN TRANSIT AUTHORITY   \n",
              "1   2       GARY JIMENEZ                 CAPTAIN III (POLICE DEPARTMENT)   \n",
              "2   3     ALBERT PARDINI                 CAPTAIN III (POLICE DEPARTMENT)   \n",
              "3   4  CHRISTOPHER CHONG            WIRE ROPE CABLE MAINTENANCE MECHANIC   \n",
              "4   5    PATRICK GARDNER    DEPUTY CHIEF OF DEPARTMENT,(FIRE DEPARTMENT)   \n",
              "\n",
              "     BasePay  OvertimePay   OtherPay  Benefits   TotalPay  TotalPayBenefits  \\\n",
              "0  167411.18         0.00  400184.25       NaN  567595.43         567595.43   \n",
              "1  155966.02    245131.88  137811.38       NaN  538909.28         538909.28   \n",
              "2  212739.13    106088.18   16452.60       NaN  335279.91         335279.91   \n",
              "3   77916.00     56120.71  198306.90       NaN  332343.61         332343.61   \n",
              "4  134401.60      9737.00  182234.59       NaN  326373.19         326373.19   \n",
              "\n",
              "     Year  Notes         Agency  Status  \n",
              "0  2011.0    NaN  San Francisco     NaN  \n",
              "1  2011.0    NaN  San Francisco     NaN  \n",
              "2  2011.0    NaN  San Francisco     NaN  \n",
              "3  2011.0    NaN  San Francisco     NaN  \n",
              "4  2011.0    NaN  San Francisco     NaN  "
            ],
            "text/html": [
              "\n",
              "  <div id=\"df-8f73ca04-ddfa-49f0-9956-e660b2ffe226\">\n",
              "    <div class=\"colab-df-container\">\n",
              "      <div>\n",
              "<style scoped>\n",
              "    .dataframe tbody tr th:only-of-type {\n",
              "        vertical-align: middle;\n",
              "    }\n",
              "\n",
              "    .dataframe tbody tr th {\n",
              "        vertical-align: top;\n",
              "    }\n",
              "\n",
              "    .dataframe thead th {\n",
              "        text-align: right;\n",
              "    }\n",
              "</style>\n",
              "<table border=\"1\" class=\"dataframe\">\n",
              "  <thead>\n",
              "    <tr style=\"text-align: right;\">\n",
              "      <th></th>\n",
              "      <th>Id</th>\n",
              "      <th>EmployeeName</th>\n",
              "      <th>JobTitle</th>\n",
              "      <th>BasePay</th>\n",
              "      <th>OvertimePay</th>\n",
              "      <th>OtherPay</th>\n",
              "      <th>Benefits</th>\n",
              "      <th>TotalPay</th>\n",
              "      <th>TotalPayBenefits</th>\n",
              "      <th>Year</th>\n",
              "      <th>Notes</th>\n",
              "      <th>Agency</th>\n",
              "      <th>Status</th>\n",
              "    </tr>\n",
              "  </thead>\n",
              "  <tbody>\n",
              "    <tr>\n",
              "      <th>0</th>\n",
              "      <td>1</td>\n",
              "      <td>NATHANIEL FORD</td>\n",
              "      <td>GENERAL MANAGER-METROPOLITAN TRANSIT AUTHORITY</td>\n",
              "      <td>167411.18</td>\n",
              "      <td>0.00</td>\n",
              "      <td>400184.25</td>\n",
              "      <td>NaN</td>\n",
              "      <td>567595.43</td>\n",
              "      <td>567595.43</td>\n",
              "      <td>2011.0</td>\n",
              "      <td>NaN</td>\n",
              "      <td>San Francisco</td>\n",
              "      <td>NaN</td>\n",
              "    </tr>\n",
              "    <tr>\n",
              "      <th>1</th>\n",
              "      <td>2</td>\n",
              "      <td>GARY JIMENEZ</td>\n",
              "      <td>CAPTAIN III (POLICE DEPARTMENT)</td>\n",
              "      <td>155966.02</td>\n",
              "      <td>245131.88</td>\n",
              "      <td>137811.38</td>\n",
              "      <td>NaN</td>\n",
              "      <td>538909.28</td>\n",
              "      <td>538909.28</td>\n",
              "      <td>2011.0</td>\n",
              "      <td>NaN</td>\n",
              "      <td>San Francisco</td>\n",
              "      <td>NaN</td>\n",
              "    </tr>\n",
              "    <tr>\n",
              "      <th>2</th>\n",
              "      <td>3</td>\n",
              "      <td>ALBERT PARDINI</td>\n",
              "      <td>CAPTAIN III (POLICE DEPARTMENT)</td>\n",
              "      <td>212739.13</td>\n",
              "      <td>106088.18</td>\n",
              "      <td>16452.60</td>\n",
              "      <td>NaN</td>\n",
              "      <td>335279.91</td>\n",
              "      <td>335279.91</td>\n",
              "      <td>2011.0</td>\n",
              "      <td>NaN</td>\n",
              "      <td>San Francisco</td>\n",
              "      <td>NaN</td>\n",
              "    </tr>\n",
              "    <tr>\n",
              "      <th>3</th>\n",
              "      <td>4</td>\n",
              "      <td>CHRISTOPHER CHONG</td>\n",
              "      <td>WIRE ROPE CABLE MAINTENANCE MECHANIC</td>\n",
              "      <td>77916.00</td>\n",
              "      <td>56120.71</td>\n",
              "      <td>198306.90</td>\n",
              "      <td>NaN</td>\n",
              "      <td>332343.61</td>\n",
              "      <td>332343.61</td>\n",
              "      <td>2011.0</td>\n",
              "      <td>NaN</td>\n",
              "      <td>San Francisco</td>\n",
              "      <td>NaN</td>\n",
              "    </tr>\n",
              "    <tr>\n",
              "      <th>4</th>\n",
              "      <td>5</td>\n",
              "      <td>PATRICK GARDNER</td>\n",
              "      <td>DEPUTY CHIEF OF DEPARTMENT,(FIRE DEPARTMENT)</td>\n",
              "      <td>134401.60</td>\n",
              "      <td>9737.00</td>\n",
              "      <td>182234.59</td>\n",
              "      <td>NaN</td>\n",
              "      <td>326373.19</td>\n",
              "      <td>326373.19</td>\n",
              "      <td>2011.0</td>\n",
              "      <td>NaN</td>\n",
              "      <td>San Francisco</td>\n",
              "      <td>NaN</td>\n",
              "    </tr>\n",
              "  </tbody>\n",
              "</table>\n",
              "</div>\n",
              "      <button class=\"colab-df-convert\" onclick=\"convertToInteractive('df-8f73ca04-ddfa-49f0-9956-e660b2ffe226')\"\n",
              "              title=\"Convert this dataframe to an interactive table.\"\n",
              "              style=\"display:none;\">\n",
              "        \n",
              "  <svg xmlns=\"http://www.w3.org/2000/svg\" height=\"24px\"viewBox=\"0 0 24 24\"\n",
              "       width=\"24px\">\n",
              "    <path d=\"M0 0h24v24H0V0z\" fill=\"none\"/>\n",
              "    <path d=\"M18.56 5.44l.94 2.06.94-2.06 2.06-.94-2.06-.94-.94-2.06-.94 2.06-2.06.94zm-11 1L8.5 8.5l.94-2.06 2.06-.94-2.06-.94L8.5 2.5l-.94 2.06-2.06.94zm10 10l.94 2.06.94-2.06 2.06-.94-2.06-.94-.94-2.06-.94 2.06-2.06.94z\"/><path d=\"M17.41 7.96l-1.37-1.37c-.4-.4-.92-.59-1.43-.59-.52 0-1.04.2-1.43.59L10.3 9.45l-7.72 7.72c-.78.78-.78 2.05 0 2.83L4 21.41c.39.39.9.59 1.41.59.51 0 1.02-.2 1.41-.59l7.78-7.78 2.81-2.81c.8-.78.8-2.07 0-2.86zM5.41 20L4 18.59l7.72-7.72 1.47 1.35L5.41 20z\"/>\n",
              "  </svg>\n",
              "      </button>\n",
              "      \n",
              "  <style>\n",
              "    .colab-df-container {\n",
              "      display:flex;\n",
              "      flex-wrap:wrap;\n",
              "      gap: 12px;\n",
              "    }\n",
              "\n",
              "    .colab-df-convert {\n",
              "      background-color: #E8F0FE;\n",
              "      border: none;\n",
              "      border-radius: 50%;\n",
              "      cursor: pointer;\n",
              "      display: none;\n",
              "      fill: #1967D2;\n",
              "      height: 32px;\n",
              "      padding: 0 0 0 0;\n",
              "      width: 32px;\n",
              "    }\n",
              "\n",
              "    .colab-df-convert:hover {\n",
              "      background-color: #E2EBFA;\n",
              "      box-shadow: 0px 1px 2px rgba(60, 64, 67, 0.3), 0px 1px 3px 1px rgba(60, 64, 67, 0.15);\n",
              "      fill: #174EA6;\n",
              "    }\n",
              "\n",
              "    [theme=dark] .colab-df-convert {\n",
              "      background-color: #3B4455;\n",
              "      fill: #D2E3FC;\n",
              "    }\n",
              "\n",
              "    [theme=dark] .colab-df-convert:hover {\n",
              "      background-color: #434B5C;\n",
              "      box-shadow: 0px 1px 3px 1px rgba(0, 0, 0, 0.15);\n",
              "      filter: drop-shadow(0px 1px 2px rgba(0, 0, 0, 0.3));\n",
              "      fill: #FFFFFF;\n",
              "    }\n",
              "  </style>\n",
              "\n",
              "      <script>\n",
              "        const buttonEl =\n",
              "          document.querySelector('#df-8f73ca04-ddfa-49f0-9956-e660b2ffe226 button.colab-df-convert');\n",
              "        buttonEl.style.display =\n",
              "          google.colab.kernel.accessAllowed ? 'block' : 'none';\n",
              "\n",
              "        async function convertToInteractive(key) {\n",
              "          const element = document.querySelector('#df-8f73ca04-ddfa-49f0-9956-e660b2ffe226');\n",
              "          const dataTable =\n",
              "            await google.colab.kernel.invokeFunction('convertToInteractive',\n",
              "                                                     [key], {});\n",
              "          if (!dataTable) return;\n",
              "\n",
              "          const docLinkHtml = 'Like what you see? Visit the ' +\n",
              "            '<a target=\"_blank\" href=https://colab.research.google.com/notebooks/data_table.ipynb>data table notebook</a>'\n",
              "            + ' to learn more about interactive tables.';\n",
              "          element.innerHTML = '';\n",
              "          dataTable['output_type'] = 'display_data';\n",
              "          await google.colab.output.renderOutput(dataTable, element);\n",
              "          const docLink = document.createElement('div');\n",
              "          docLink.innerHTML = docLinkHtml;\n",
              "          element.appendChild(docLink);\n",
              "        }\n",
              "      </script>\n",
              "    </div>\n",
              "  </div>\n",
              "  "
            ]
          },
          "metadata": {},
          "execution_count": 55
        }
      ],
      "source": [
        "# THE FIRST 5 ROWS \n",
        "df.head()\n",
        "\n"
      ]
    },
    {
      "cell_type": "markdown",
      "metadata": {
        "id": "orDhfNTVATKZ"
      },
      "source": [
        "Desired Output:\n",
        "\n",
        "![image.png](https://i.ibb.co/6BTmGX8/assignment1a.png)"
      ]
    },
    {
      "cell_type": "code",
      "execution_count": 56,
      "metadata": {
        "id": "YwUmq9IAAd_Q",
        "outputId": "2a0dcf50-96f3-4585-e3ff-0e2290dbe420",
        "colab": {
          "base_uri": "https://localhost:8080/",
          "height": 142
        }
      },
      "outputs": [
        {
          "output_type": "execute_result",
          "data": {
            "text/plain": [
              "          Id      EmployeeName                                      JobTitle  \\\n",
              "26291  26292  PATRICK HENNESSY  APPRENTICE STATIONARY ENGINEER, SEWAGE PLANT   \n",
              "\n",
              "        BasePay  OvertimePay  OtherPay  Benefits  TotalPay  TotalPayBenefits  \\\n",
              "26291  40600.25        755.0   1666.93       NaN  43022.18          43022.18   \n",
              "\n",
              "         Year  Notes         Agency  Status  \n",
              "26291  2011.0    NaN  San Francisco     NaN  "
            ],
            "text/html": [
              "\n",
              "  <div id=\"df-69738202-88ea-4e1e-88b4-77ca1c00973b\">\n",
              "    <div class=\"colab-df-container\">\n",
              "      <div>\n",
              "<style scoped>\n",
              "    .dataframe tbody tr th:only-of-type {\n",
              "        vertical-align: middle;\n",
              "    }\n",
              "\n",
              "    .dataframe tbody tr th {\n",
              "        vertical-align: top;\n",
              "    }\n",
              "\n",
              "    .dataframe thead th {\n",
              "        text-align: right;\n",
              "    }\n",
              "</style>\n",
              "<table border=\"1\" class=\"dataframe\">\n",
              "  <thead>\n",
              "    <tr style=\"text-align: right;\">\n",
              "      <th></th>\n",
              "      <th>Id</th>\n",
              "      <th>EmployeeName</th>\n",
              "      <th>JobTitle</th>\n",
              "      <th>BasePay</th>\n",
              "      <th>OvertimePay</th>\n",
              "      <th>OtherPay</th>\n",
              "      <th>Benefits</th>\n",
              "      <th>TotalPay</th>\n",
              "      <th>TotalPayBenefits</th>\n",
              "      <th>Year</th>\n",
              "      <th>Notes</th>\n",
              "      <th>Agency</th>\n",
              "      <th>Status</th>\n",
              "    </tr>\n",
              "  </thead>\n",
              "  <tbody>\n",
              "    <tr>\n",
              "      <th>26291</th>\n",
              "      <td>26292</td>\n",
              "      <td>PATRICK HENNESSY</td>\n",
              "      <td>APPRENTICE STATIONARY ENGINEER, SEWAGE PLANT</td>\n",
              "      <td>40600.25</td>\n",
              "      <td>755.0</td>\n",
              "      <td>1666.93</td>\n",
              "      <td>NaN</td>\n",
              "      <td>43022.18</td>\n",
              "      <td>43022.18</td>\n",
              "      <td>2011.0</td>\n",
              "      <td>NaN</td>\n",
              "      <td>San Francisco</td>\n",
              "      <td>NaN</td>\n",
              "    </tr>\n",
              "  </tbody>\n",
              "</table>\n",
              "</div>\n",
              "      <button class=\"colab-df-convert\" onclick=\"convertToInteractive('df-69738202-88ea-4e1e-88b4-77ca1c00973b')\"\n",
              "              title=\"Convert this dataframe to an interactive table.\"\n",
              "              style=\"display:none;\">\n",
              "        \n",
              "  <svg xmlns=\"http://www.w3.org/2000/svg\" height=\"24px\"viewBox=\"0 0 24 24\"\n",
              "       width=\"24px\">\n",
              "    <path d=\"M0 0h24v24H0V0z\" fill=\"none\"/>\n",
              "    <path d=\"M18.56 5.44l.94 2.06.94-2.06 2.06-.94-2.06-.94-.94-2.06-.94 2.06-2.06.94zm-11 1L8.5 8.5l.94-2.06 2.06-.94-2.06-.94L8.5 2.5l-.94 2.06-2.06.94zm10 10l.94 2.06.94-2.06 2.06-.94-2.06-.94-.94-2.06-.94 2.06-2.06.94z\"/><path d=\"M17.41 7.96l-1.37-1.37c-.4-.4-.92-.59-1.43-.59-.52 0-1.04.2-1.43.59L10.3 9.45l-7.72 7.72c-.78.78-.78 2.05 0 2.83L4 21.41c.39.39.9.59 1.41.59.51 0 1.02-.2 1.41-.59l7.78-7.78 2.81-2.81c.8-.78.8-2.07 0-2.86zM5.41 20L4 18.59l7.72-7.72 1.47 1.35L5.41 20z\"/>\n",
              "  </svg>\n",
              "      </button>\n",
              "      \n",
              "  <style>\n",
              "    .colab-df-container {\n",
              "      display:flex;\n",
              "      flex-wrap:wrap;\n",
              "      gap: 12px;\n",
              "    }\n",
              "\n",
              "    .colab-df-convert {\n",
              "      background-color: #E8F0FE;\n",
              "      border: none;\n",
              "      border-radius: 50%;\n",
              "      cursor: pointer;\n",
              "      display: none;\n",
              "      fill: #1967D2;\n",
              "      height: 32px;\n",
              "      padding: 0 0 0 0;\n",
              "      width: 32px;\n",
              "    }\n",
              "\n",
              "    .colab-df-convert:hover {\n",
              "      background-color: #E2EBFA;\n",
              "      box-shadow: 0px 1px 2px rgba(60, 64, 67, 0.3), 0px 1px 3px 1px rgba(60, 64, 67, 0.15);\n",
              "      fill: #174EA6;\n",
              "    }\n",
              "\n",
              "    [theme=dark] .colab-df-convert {\n",
              "      background-color: #3B4455;\n",
              "      fill: #D2E3FC;\n",
              "    }\n",
              "\n",
              "    [theme=dark] .colab-df-convert:hover {\n",
              "      background-color: #434B5C;\n",
              "      box-shadow: 0px 1px 3px 1px rgba(0, 0, 0, 0.15);\n",
              "      filter: drop-shadow(0px 1px 2px rgba(0, 0, 0, 0.3));\n",
              "      fill: #FFFFFF;\n",
              "    }\n",
              "  </style>\n",
              "\n",
              "      <script>\n",
              "        const buttonEl =\n",
              "          document.querySelector('#df-69738202-88ea-4e1e-88b4-77ca1c00973b button.colab-df-convert');\n",
              "        buttonEl.style.display =\n",
              "          google.colab.kernel.accessAllowed ? 'block' : 'none';\n",
              "\n",
              "        async function convertToInteractive(key) {\n",
              "          const element = document.querySelector('#df-69738202-88ea-4e1e-88b4-77ca1c00973b');\n",
              "          const dataTable =\n",
              "            await google.colab.kernel.invokeFunction('convertToInteractive',\n",
              "                                                     [key], {});\n",
              "          if (!dataTable) return;\n",
              "\n",
              "          const docLinkHtml = 'Like what you see? Visit the ' +\n",
              "            '<a target=\"_blank\" href=https://colab.research.google.com/notebooks/data_table.ipynb>data table notebook</a>'\n",
              "            + ' to learn more about interactive tables.';\n",
              "          element.innerHTML = '';\n",
              "          dataTable['output_type'] = 'display_data';\n",
              "          await google.colab.output.renderOutput(dataTable, element);\n",
              "          const docLink = document.createElement('div');\n",
              "          docLink.innerHTML = docLinkHtml;\n",
              "          element.appendChild(docLink);\n",
              "        }\n",
              "      </script>\n",
              "    </div>\n",
              "  </div>\n",
              "  "
            ]
          },
          "metadata": {},
          "execution_count": 56
        }
      ],
      "source": [
        "#  A SAMPLE \n",
        "\n",
        "df.sample()"
      ]
    },
    {
      "cell_type": "markdown",
      "metadata": {
        "id": "iRQ9m3ZnATKa"
      },
      "source": [
        "Desired Output (WATCH OUT! Your output may NOT be the same as the one):\n",
        "\n",
        "![image.png](https://i.ibb.co/mcsCxxC/assignment1b.png)"
      ]
    },
    {
      "cell_type": "code",
      "execution_count": 57,
      "metadata": {
        "id": "WuXy195gAd_Q",
        "outputId": "15fe59e7-d8db-473c-d052-efc7ae0c7b8c",
        "colab": {
          "base_uri": "https://localhost:8080/"
        }
      },
      "outputs": [
        {
          "output_type": "stream",
          "name": "stdout",
          "text": [
            "<class 'pandas.core.frame.DataFrame'>\n",
            "RangeIndex: 88822 entries, 0 to 88821\n",
            "Data columns (total 13 columns):\n",
            " #   Column            Non-Null Count  Dtype  \n",
            "---  ------            --------------  -----  \n",
            " 0   Id                88822 non-null  int64  \n",
            " 1   EmployeeName      88822 non-null  object \n",
            " 2   JobTitle          88822 non-null  object \n",
            " 3   BasePay           88818 non-null  float64\n",
            " 4   OvertimePay       88821 non-null  float64\n",
            " 5   OtherPay          88821 non-null  float64\n",
            " 6   Benefits          52662 non-null  float64\n",
            " 7   TotalPay          88821 non-null  float64\n",
            " 8   TotalPayBenefits  88821 non-null  float64\n",
            " 9   Year              88821 non-null  float64\n",
            " 10  Notes             0 non-null      float64\n",
            " 11  Agency            88821 non-null  object \n",
            " 12  Status            0 non-null      float64\n",
            "dtypes: float64(9), int64(1), object(3)\n",
            "memory usage: 8.8+ MB\n"
          ]
        }
      ],
      "source": [
        "# INFO\n",
        "\n",
        "\n",
        "df.info()"
      ]
    },
    {
      "cell_type": "raw",
      "metadata": {
        "id": "CNaj2IUCATKa"
      },
      "source": [
        "Desired Output:\n",
        "\n",
        "<class 'pandas.core.frame.DataFrame'>\n",
        "RangeIndex: 148654 entries, 0 to 148653\n",
        "Data columns (total 13 columns):\n",
        " #   Column            Non-Null Count   Dtype  \n",
        "---  ------            --------------   -----  \n",
        " 0   Id                148654 non-null  int64  \n",
        " 1   EmployeeName      148654 non-null  object \n",
        " 2   JobTitle          148654 non-null  object \n",
        " 3   BasePay           148045 non-null  float64\n",
        " 4   OvertimePay       148650 non-null  float64\n",
        " 5   OtherPay          148650 non-null  float64\n",
        " 6   Benefits          112491 non-null  float64\n",
        " 7   TotalPay          148654 non-null  float64\n",
        " 8   TotalPayBenefits  148654 non-null  float64\n",
        " 9   Year              148654 non-null  int64  \n",
        " 10  Notes             0 non-null       float64\n",
        " 11  Agency            148654 non-null  object \n",
        " 12  Status            0 non-null       float64\n",
        "dtypes: float64(8), int64(2), object(3)\n",
        "memory usage: 14.7+ MB"
      ]
    },
    {
      "cell_type": "code",
      "execution_count": 58,
      "metadata": {
        "id": "02GV54nZAd_R",
        "outputId": "74fe68f5-90b8-44d5-b37a-02fcffe23191",
        "colab": {
          "base_uri": "https://localhost:8080/",
          "height": 300
        }
      },
      "outputs": [
        {
          "output_type": "execute_result",
          "data": {
            "text/plain": [
              "                 Id        BasePay    OvertimePay       OtherPay  \\\n",
              "count  88822.000000   88818.000000   88821.000000   88821.000000   \n",
              "mean   44411.500000   72515.868893    5818.335135    4240.788227   \n",
              "std    25640.847142   43017.639194   12397.195429    8811.236340   \n",
              "min        1.000000    -166.010000       0.000000   -7058.590000   \n",
              "25%    22206.250000   45362.300000       0.000000       0.000000   \n",
              "50%    44411.500000   71179.405000       0.000000    1120.580000   \n",
              "75%    66616.750000  103037.302500    5930.420000    5207.950000   \n",
              "max    88822.000000  319275.010000  245131.880000  400184.250000   \n",
              "\n",
              "           Benefits       TotalPay  TotalPayBenefits          Year  Notes  \\\n",
              "count  52662.000000   88821.000000      88821.000000  88821.000000    0.0   \n",
              "mean   29417.804224   82572.542973     100014.368736   2011.771867    NaN   \n",
              "std    14409.903309   51016.788984      62818.276002      0.730772    NaN   \n",
              "min        0.000000       0.000000          0.000000   2011.000000    NaN   \n",
              "25%    25827.167500   49109.550000      53838.890000   2011.000000    NaN   \n",
              "50%    32841.735000   81510.700000      99671.920000   2012.000000    NaN   \n",
              "75%    37810.562500  115530.000000     140679.180000   2012.000000    NaN   \n",
              "max    86533.210000  567595.430000     567595.430000   2013.000000    NaN   \n",
              "\n",
              "       Status  \n",
              "count     0.0  \n",
              "mean      NaN  \n",
              "std       NaN  \n",
              "min       NaN  \n",
              "25%       NaN  \n",
              "50%       NaN  \n",
              "75%       NaN  \n",
              "max       NaN  "
            ],
            "text/html": [
              "\n",
              "  <div id=\"df-427c8abd-324c-43e6-a47c-d2bd45393832\">\n",
              "    <div class=\"colab-df-container\">\n",
              "      <div>\n",
              "<style scoped>\n",
              "    .dataframe tbody tr th:only-of-type {\n",
              "        vertical-align: middle;\n",
              "    }\n",
              "\n",
              "    .dataframe tbody tr th {\n",
              "        vertical-align: top;\n",
              "    }\n",
              "\n",
              "    .dataframe thead th {\n",
              "        text-align: right;\n",
              "    }\n",
              "</style>\n",
              "<table border=\"1\" class=\"dataframe\">\n",
              "  <thead>\n",
              "    <tr style=\"text-align: right;\">\n",
              "      <th></th>\n",
              "      <th>Id</th>\n",
              "      <th>BasePay</th>\n",
              "      <th>OvertimePay</th>\n",
              "      <th>OtherPay</th>\n",
              "      <th>Benefits</th>\n",
              "      <th>TotalPay</th>\n",
              "      <th>TotalPayBenefits</th>\n",
              "      <th>Year</th>\n",
              "      <th>Notes</th>\n",
              "      <th>Status</th>\n",
              "    </tr>\n",
              "  </thead>\n",
              "  <tbody>\n",
              "    <tr>\n",
              "      <th>count</th>\n",
              "      <td>88822.000000</td>\n",
              "      <td>88818.000000</td>\n",
              "      <td>88821.000000</td>\n",
              "      <td>88821.000000</td>\n",
              "      <td>52662.000000</td>\n",
              "      <td>88821.000000</td>\n",
              "      <td>88821.000000</td>\n",
              "      <td>88821.000000</td>\n",
              "      <td>0.0</td>\n",
              "      <td>0.0</td>\n",
              "    </tr>\n",
              "    <tr>\n",
              "      <th>mean</th>\n",
              "      <td>44411.500000</td>\n",
              "      <td>72515.868893</td>\n",
              "      <td>5818.335135</td>\n",
              "      <td>4240.788227</td>\n",
              "      <td>29417.804224</td>\n",
              "      <td>82572.542973</td>\n",
              "      <td>100014.368736</td>\n",
              "      <td>2011.771867</td>\n",
              "      <td>NaN</td>\n",
              "      <td>NaN</td>\n",
              "    </tr>\n",
              "    <tr>\n",
              "      <th>std</th>\n",
              "      <td>25640.847142</td>\n",
              "      <td>43017.639194</td>\n",
              "      <td>12397.195429</td>\n",
              "      <td>8811.236340</td>\n",
              "      <td>14409.903309</td>\n",
              "      <td>51016.788984</td>\n",
              "      <td>62818.276002</td>\n",
              "      <td>0.730772</td>\n",
              "      <td>NaN</td>\n",
              "      <td>NaN</td>\n",
              "    </tr>\n",
              "    <tr>\n",
              "      <th>min</th>\n",
              "      <td>1.000000</td>\n",
              "      <td>-166.010000</td>\n",
              "      <td>0.000000</td>\n",
              "      <td>-7058.590000</td>\n",
              "      <td>0.000000</td>\n",
              "      <td>0.000000</td>\n",
              "      <td>0.000000</td>\n",
              "      <td>2011.000000</td>\n",
              "      <td>NaN</td>\n",
              "      <td>NaN</td>\n",
              "    </tr>\n",
              "    <tr>\n",
              "      <th>25%</th>\n",
              "      <td>22206.250000</td>\n",
              "      <td>45362.300000</td>\n",
              "      <td>0.000000</td>\n",
              "      <td>0.000000</td>\n",
              "      <td>25827.167500</td>\n",
              "      <td>49109.550000</td>\n",
              "      <td>53838.890000</td>\n",
              "      <td>2011.000000</td>\n",
              "      <td>NaN</td>\n",
              "      <td>NaN</td>\n",
              "    </tr>\n",
              "    <tr>\n",
              "      <th>50%</th>\n",
              "      <td>44411.500000</td>\n",
              "      <td>71179.405000</td>\n",
              "      <td>0.000000</td>\n",
              "      <td>1120.580000</td>\n",
              "      <td>32841.735000</td>\n",
              "      <td>81510.700000</td>\n",
              "      <td>99671.920000</td>\n",
              "      <td>2012.000000</td>\n",
              "      <td>NaN</td>\n",
              "      <td>NaN</td>\n",
              "    </tr>\n",
              "    <tr>\n",
              "      <th>75%</th>\n",
              "      <td>66616.750000</td>\n",
              "      <td>103037.302500</td>\n",
              "      <td>5930.420000</td>\n",
              "      <td>5207.950000</td>\n",
              "      <td>37810.562500</td>\n",
              "      <td>115530.000000</td>\n",
              "      <td>140679.180000</td>\n",
              "      <td>2012.000000</td>\n",
              "      <td>NaN</td>\n",
              "      <td>NaN</td>\n",
              "    </tr>\n",
              "    <tr>\n",
              "      <th>max</th>\n",
              "      <td>88822.000000</td>\n",
              "      <td>319275.010000</td>\n",
              "      <td>245131.880000</td>\n",
              "      <td>400184.250000</td>\n",
              "      <td>86533.210000</td>\n",
              "      <td>567595.430000</td>\n",
              "      <td>567595.430000</td>\n",
              "      <td>2013.000000</td>\n",
              "      <td>NaN</td>\n",
              "      <td>NaN</td>\n",
              "    </tr>\n",
              "  </tbody>\n",
              "</table>\n",
              "</div>\n",
              "      <button class=\"colab-df-convert\" onclick=\"convertToInteractive('df-427c8abd-324c-43e6-a47c-d2bd45393832')\"\n",
              "              title=\"Convert this dataframe to an interactive table.\"\n",
              "              style=\"display:none;\">\n",
              "        \n",
              "  <svg xmlns=\"http://www.w3.org/2000/svg\" height=\"24px\"viewBox=\"0 0 24 24\"\n",
              "       width=\"24px\">\n",
              "    <path d=\"M0 0h24v24H0V0z\" fill=\"none\"/>\n",
              "    <path d=\"M18.56 5.44l.94 2.06.94-2.06 2.06-.94-2.06-.94-.94-2.06-.94 2.06-2.06.94zm-11 1L8.5 8.5l.94-2.06 2.06-.94-2.06-.94L8.5 2.5l-.94 2.06-2.06.94zm10 10l.94 2.06.94-2.06 2.06-.94-2.06-.94-.94-2.06-.94 2.06-2.06.94z\"/><path d=\"M17.41 7.96l-1.37-1.37c-.4-.4-.92-.59-1.43-.59-.52 0-1.04.2-1.43.59L10.3 9.45l-7.72 7.72c-.78.78-.78 2.05 0 2.83L4 21.41c.39.39.9.59 1.41.59.51 0 1.02-.2 1.41-.59l7.78-7.78 2.81-2.81c.8-.78.8-2.07 0-2.86zM5.41 20L4 18.59l7.72-7.72 1.47 1.35L5.41 20z\"/>\n",
              "  </svg>\n",
              "      </button>\n",
              "      \n",
              "  <style>\n",
              "    .colab-df-container {\n",
              "      display:flex;\n",
              "      flex-wrap:wrap;\n",
              "      gap: 12px;\n",
              "    }\n",
              "\n",
              "    .colab-df-convert {\n",
              "      background-color: #E8F0FE;\n",
              "      border: none;\n",
              "      border-radius: 50%;\n",
              "      cursor: pointer;\n",
              "      display: none;\n",
              "      fill: #1967D2;\n",
              "      height: 32px;\n",
              "      padding: 0 0 0 0;\n",
              "      width: 32px;\n",
              "    }\n",
              "\n",
              "    .colab-df-convert:hover {\n",
              "      background-color: #E2EBFA;\n",
              "      box-shadow: 0px 1px 2px rgba(60, 64, 67, 0.3), 0px 1px 3px 1px rgba(60, 64, 67, 0.15);\n",
              "      fill: #174EA6;\n",
              "    }\n",
              "\n",
              "    [theme=dark] .colab-df-convert {\n",
              "      background-color: #3B4455;\n",
              "      fill: #D2E3FC;\n",
              "    }\n",
              "\n",
              "    [theme=dark] .colab-df-convert:hover {\n",
              "      background-color: #434B5C;\n",
              "      box-shadow: 0px 1px 3px 1px rgba(0, 0, 0, 0.15);\n",
              "      filter: drop-shadow(0px 1px 2px rgba(0, 0, 0, 0.3));\n",
              "      fill: #FFFFFF;\n",
              "    }\n",
              "  </style>\n",
              "\n",
              "      <script>\n",
              "        const buttonEl =\n",
              "          document.querySelector('#df-427c8abd-324c-43e6-a47c-d2bd45393832 button.colab-df-convert');\n",
              "        buttonEl.style.display =\n",
              "          google.colab.kernel.accessAllowed ? 'block' : 'none';\n",
              "\n",
              "        async function convertToInteractive(key) {\n",
              "          const element = document.querySelector('#df-427c8abd-324c-43e6-a47c-d2bd45393832');\n",
              "          const dataTable =\n",
              "            await google.colab.kernel.invokeFunction('convertToInteractive',\n",
              "                                                     [key], {});\n",
              "          if (!dataTable) return;\n",
              "\n",
              "          const docLinkHtml = 'Like what you see? Visit the ' +\n",
              "            '<a target=\"_blank\" href=https://colab.research.google.com/notebooks/data_table.ipynb>data table notebook</a>'\n",
              "            + ' to learn more about interactive tables.';\n",
              "          element.innerHTML = '';\n",
              "          dataTable['output_type'] = 'display_data';\n",
              "          await google.colab.output.renderOutput(dataTable, element);\n",
              "          const docLink = document.createElement('div');\n",
              "          docLink.innerHTML = docLinkHtml;\n",
              "          element.appendChild(docLink);\n",
              "        }\n",
              "      </script>\n",
              "    </div>\n",
              "  </div>\n",
              "  "
            ]
          },
          "metadata": {},
          "execution_count": 58
        }
      ],
      "source": [
        "# DESCRIPTIVE MEASUREMENTS  \n",
        "\n",
        "df.describe()\n"
      ]
    },
    {
      "cell_type": "markdown",
      "metadata": {
        "id": "CWcOjO1fATKb"
      },
      "source": [
        "Desired Output:\n",
        "\n",
        "![image.png](https://i.ibb.co/ftMP67H/assignmnet1c.png)"
      ]
    },
    {
      "cell_type": "markdown",
      "metadata": {
        "id": "vIWqIPCdAd_R"
      },
      "source": [
        "### How many different year values are there?"
      ]
    },
    {
      "cell_type": "code",
      "execution_count": 59,
      "metadata": {
        "colab": {
          "base_uri": "https://localhost:8080/"
        },
        "id": "h7e4E1VDATKb",
        "outputId": "2ad4aede-b43c-4dcc-dce7-333333eca0d6"
      },
      "outputs": [
        {
          "output_type": "execute_result",
          "data": {
            "text/plain": [
              "Year\n",
              "2012.0    36766\n",
              "2011.0    36159\n",
              "2013.0    15896\n",
              "Name: Id, dtype: int64"
            ]
          },
          "metadata": {},
          "execution_count": 59
        }
      ],
      "source": [
        "# YOUR CODE IS HERE \n",
        "\n",
        "df.groupby([\"Year\"]).count()[\"Id\"].sort_values(ascending = False)"
      ]
    },
    {
      "cell_type": "raw",
      "metadata": {
        "id": "39DveD73ATKc"
      },
      "source": [
        "Desired Output:\n",
        "\n",
        "2014    38123\n",
        "2013    37606\n",
        "2012    36766\n",
        "2011    36159\n",
        "Name: Year, dtype: int64"
      ]
    },
    {
      "cell_type": "code",
      "execution_count": 60,
      "metadata": {
        "id": "_QXgY1bWAd_S",
        "outputId": "6a95f320-9691-4da2-9141-aebb691df520",
        "colab": {
          "base_uri": "https://localhost:8080/"
        }
      },
      "outputs": [
        {
          "output_type": "execute_result",
          "data": {
            "text/plain": [
              "3"
            ]
          },
          "metadata": {},
          "execution_count": 60
        }
      ],
      "source": [
        "# LET US FIND THE NUMBER OF UNIQUE VALUES IN THE COLUMN OF \"Year\"\n",
        "\n",
        "# YOUR CODE IS HERE \n",
        "df[\"Year\"].nunique()\n"
      ]
    },
    {
      "cell_type": "raw",
      "metadata": {
        "id": "0HkU83FwATKc"
      },
      "source": [
        "Desired Output:\n",
        "\n",
        "4"
      ]
    },
    {
      "cell_type": "code",
      "execution_count": 61,
      "metadata": {
        "colab": {
          "base_uri": "https://localhost:8080/",
          "height": 624
        },
        "id": "bN9tL9XaATKc",
        "outputId": "a481236a-1153-4a5c-a6dd-ea194c2ad7ca"
      },
      "outputs": [
        {
          "output_type": "execute_result",
          "data": {
            "text/plain": [
              "          Id       EmployeeName  \\\n",
              "0          1     NATHANIEL FORD   \n",
              "1          2       GARY JIMENEZ   \n",
              "2          3     ALBERT PARDINI   \n",
              "3          4  CHRISTOPHER CHONG   \n",
              "4          5    PATRICK GARDNER   \n",
              "...      ...                ...   \n",
              "88817  88818        Janey  Chan   \n",
              "88818  88819     Craig S Rigler   \n",
              "88819  88820      James A Cecil   \n",
              "88820  88821     Ramona  Torres   \n",
              "88821  88822        Gary R Farr   \n",
              "\n",
              "                                             JobTitle    BasePay  OvertimePay  \\\n",
              "0      GENERAL MANAGER-METROPOLITAN TRANSIT AUTHORITY  167411.18         0.00   \n",
              "1                     CAPTAIN III (POLICE DEPARTMENT)  155966.02    245131.88   \n",
              "2                     CAPTAIN III (POLICE DEPARTMENT)  212739.13    106088.18   \n",
              "3                WIRE ROPE CABLE MAINTENANCE MECHANIC   77916.00     56120.71   \n",
              "4        DEPUTY CHIEF OF DEPARTMENT,(FIRE DEPARTMENT)  134401.60      9737.00   \n",
              "...                                               ...        ...          ...   \n",
              "88817                                       Asst Engr   81908.53         0.00   \n",
              "88818                    Sr Fare Collections Receiver   70767.00      5605.01   \n",
              "88819                            Automotive Machinist   80133.01       333.46   \n",
              "88820                           Emp & Training Spec 2   79542.07         0.00   \n",
              "88821                                  Transit Operat        NaN          NaN   \n",
              "\n",
              "        OtherPay  Benefits   TotalPay  TotalPayBenefits    Year  Notes  \\\n",
              "0      400184.25       NaN  567595.43         567595.43  2011.0    NaN   \n",
              "1      137811.38       NaN  538909.28         538909.28  2011.0    NaN   \n",
              "2       16452.60       NaN  335279.91         335279.91  2011.0    NaN   \n",
              "3      198306.90       NaN  332343.61         332343.61  2011.0    NaN   \n",
              "4      182234.59       NaN  326373.19         326373.19  2011.0    NaN   \n",
              "...          ...       ...        ...               ...     ...    ...   \n",
              "88817       0.00  29686.96   81908.53         111595.49  2013.0    NaN   \n",
              "88818    6289.10  28933.19   82661.11         111594.30  2013.0    NaN   \n",
              "88819    1271.35  29849.10   81737.82         111586.92  2013.0    NaN   \n",
              "88820    2148.00  29887.81   81690.07         111577.88  2013.0    NaN   \n",
              "88821        NaN       NaN        NaN               NaN     NaN    NaN   \n",
              "\n",
              "              Agency  Status  \n",
              "0      San Francisco     NaN  \n",
              "1      San Francisco     NaN  \n",
              "2      San Francisco     NaN  \n",
              "3      San Francisco     NaN  \n",
              "4      San Francisco     NaN  \n",
              "...              ...     ...  \n",
              "88817  San Francisco     NaN  \n",
              "88818  San Francisco     NaN  \n",
              "88819  San Francisco     NaN  \n",
              "88820  San Francisco     NaN  \n",
              "88821            NaN     NaN  \n",
              "\n",
              "[88822 rows x 13 columns]"
            ],
            "text/html": [
              "\n",
              "  <div id=\"df-38d84010-e10c-469c-ad18-3236c612b67e\">\n",
              "    <div class=\"colab-df-container\">\n",
              "      <div>\n",
              "<style scoped>\n",
              "    .dataframe tbody tr th:only-of-type {\n",
              "        vertical-align: middle;\n",
              "    }\n",
              "\n",
              "    .dataframe tbody tr th {\n",
              "        vertical-align: top;\n",
              "    }\n",
              "\n",
              "    .dataframe thead th {\n",
              "        text-align: right;\n",
              "    }\n",
              "</style>\n",
              "<table border=\"1\" class=\"dataframe\">\n",
              "  <thead>\n",
              "    <tr style=\"text-align: right;\">\n",
              "      <th></th>\n",
              "      <th>Id</th>\n",
              "      <th>EmployeeName</th>\n",
              "      <th>JobTitle</th>\n",
              "      <th>BasePay</th>\n",
              "      <th>OvertimePay</th>\n",
              "      <th>OtherPay</th>\n",
              "      <th>Benefits</th>\n",
              "      <th>TotalPay</th>\n",
              "      <th>TotalPayBenefits</th>\n",
              "      <th>Year</th>\n",
              "      <th>Notes</th>\n",
              "      <th>Agency</th>\n",
              "      <th>Status</th>\n",
              "    </tr>\n",
              "  </thead>\n",
              "  <tbody>\n",
              "    <tr>\n",
              "      <th>0</th>\n",
              "      <td>1</td>\n",
              "      <td>NATHANIEL FORD</td>\n",
              "      <td>GENERAL MANAGER-METROPOLITAN TRANSIT AUTHORITY</td>\n",
              "      <td>167411.18</td>\n",
              "      <td>0.00</td>\n",
              "      <td>400184.25</td>\n",
              "      <td>NaN</td>\n",
              "      <td>567595.43</td>\n",
              "      <td>567595.43</td>\n",
              "      <td>2011.0</td>\n",
              "      <td>NaN</td>\n",
              "      <td>San Francisco</td>\n",
              "      <td>NaN</td>\n",
              "    </tr>\n",
              "    <tr>\n",
              "      <th>1</th>\n",
              "      <td>2</td>\n",
              "      <td>GARY JIMENEZ</td>\n",
              "      <td>CAPTAIN III (POLICE DEPARTMENT)</td>\n",
              "      <td>155966.02</td>\n",
              "      <td>245131.88</td>\n",
              "      <td>137811.38</td>\n",
              "      <td>NaN</td>\n",
              "      <td>538909.28</td>\n",
              "      <td>538909.28</td>\n",
              "      <td>2011.0</td>\n",
              "      <td>NaN</td>\n",
              "      <td>San Francisco</td>\n",
              "      <td>NaN</td>\n",
              "    </tr>\n",
              "    <tr>\n",
              "      <th>2</th>\n",
              "      <td>3</td>\n",
              "      <td>ALBERT PARDINI</td>\n",
              "      <td>CAPTAIN III (POLICE DEPARTMENT)</td>\n",
              "      <td>212739.13</td>\n",
              "      <td>106088.18</td>\n",
              "      <td>16452.60</td>\n",
              "      <td>NaN</td>\n",
              "      <td>335279.91</td>\n",
              "      <td>335279.91</td>\n",
              "      <td>2011.0</td>\n",
              "      <td>NaN</td>\n",
              "      <td>San Francisco</td>\n",
              "      <td>NaN</td>\n",
              "    </tr>\n",
              "    <tr>\n",
              "      <th>3</th>\n",
              "      <td>4</td>\n",
              "      <td>CHRISTOPHER CHONG</td>\n",
              "      <td>WIRE ROPE CABLE MAINTENANCE MECHANIC</td>\n",
              "      <td>77916.00</td>\n",
              "      <td>56120.71</td>\n",
              "      <td>198306.90</td>\n",
              "      <td>NaN</td>\n",
              "      <td>332343.61</td>\n",
              "      <td>332343.61</td>\n",
              "      <td>2011.0</td>\n",
              "      <td>NaN</td>\n",
              "      <td>San Francisco</td>\n",
              "      <td>NaN</td>\n",
              "    </tr>\n",
              "    <tr>\n",
              "      <th>4</th>\n",
              "      <td>5</td>\n",
              "      <td>PATRICK GARDNER</td>\n",
              "      <td>DEPUTY CHIEF OF DEPARTMENT,(FIRE DEPARTMENT)</td>\n",
              "      <td>134401.60</td>\n",
              "      <td>9737.00</td>\n",
              "      <td>182234.59</td>\n",
              "      <td>NaN</td>\n",
              "      <td>326373.19</td>\n",
              "      <td>326373.19</td>\n",
              "      <td>2011.0</td>\n",
              "      <td>NaN</td>\n",
              "      <td>San Francisco</td>\n",
              "      <td>NaN</td>\n",
              "    </tr>\n",
              "    <tr>\n",
              "      <th>...</th>\n",
              "      <td>...</td>\n",
              "      <td>...</td>\n",
              "      <td>...</td>\n",
              "      <td>...</td>\n",
              "      <td>...</td>\n",
              "      <td>...</td>\n",
              "      <td>...</td>\n",
              "      <td>...</td>\n",
              "      <td>...</td>\n",
              "      <td>...</td>\n",
              "      <td>...</td>\n",
              "      <td>...</td>\n",
              "      <td>...</td>\n",
              "    </tr>\n",
              "    <tr>\n",
              "      <th>88817</th>\n",
              "      <td>88818</td>\n",
              "      <td>Janey  Chan</td>\n",
              "      <td>Asst Engr</td>\n",
              "      <td>81908.53</td>\n",
              "      <td>0.00</td>\n",
              "      <td>0.00</td>\n",
              "      <td>29686.96</td>\n",
              "      <td>81908.53</td>\n",
              "      <td>111595.49</td>\n",
              "      <td>2013.0</td>\n",
              "      <td>NaN</td>\n",
              "      <td>San Francisco</td>\n",
              "      <td>NaN</td>\n",
              "    </tr>\n",
              "    <tr>\n",
              "      <th>88818</th>\n",
              "      <td>88819</td>\n",
              "      <td>Craig S Rigler</td>\n",
              "      <td>Sr Fare Collections Receiver</td>\n",
              "      <td>70767.00</td>\n",
              "      <td>5605.01</td>\n",
              "      <td>6289.10</td>\n",
              "      <td>28933.19</td>\n",
              "      <td>82661.11</td>\n",
              "      <td>111594.30</td>\n",
              "      <td>2013.0</td>\n",
              "      <td>NaN</td>\n",
              "      <td>San Francisco</td>\n",
              "      <td>NaN</td>\n",
              "    </tr>\n",
              "    <tr>\n",
              "      <th>88819</th>\n",
              "      <td>88820</td>\n",
              "      <td>James A Cecil</td>\n",
              "      <td>Automotive Machinist</td>\n",
              "      <td>80133.01</td>\n",
              "      <td>333.46</td>\n",
              "      <td>1271.35</td>\n",
              "      <td>29849.10</td>\n",
              "      <td>81737.82</td>\n",
              "      <td>111586.92</td>\n",
              "      <td>2013.0</td>\n",
              "      <td>NaN</td>\n",
              "      <td>San Francisco</td>\n",
              "      <td>NaN</td>\n",
              "    </tr>\n",
              "    <tr>\n",
              "      <th>88820</th>\n",
              "      <td>88821</td>\n",
              "      <td>Ramona  Torres</td>\n",
              "      <td>Emp &amp; Training Spec 2</td>\n",
              "      <td>79542.07</td>\n",
              "      <td>0.00</td>\n",
              "      <td>2148.00</td>\n",
              "      <td>29887.81</td>\n",
              "      <td>81690.07</td>\n",
              "      <td>111577.88</td>\n",
              "      <td>2013.0</td>\n",
              "      <td>NaN</td>\n",
              "      <td>San Francisco</td>\n",
              "      <td>NaN</td>\n",
              "    </tr>\n",
              "    <tr>\n",
              "      <th>88821</th>\n",
              "      <td>88822</td>\n",
              "      <td>Gary R Farr</td>\n",
              "      <td>Transit Operat</td>\n",
              "      <td>NaN</td>\n",
              "      <td>NaN</td>\n",
              "      <td>NaN</td>\n",
              "      <td>NaN</td>\n",
              "      <td>NaN</td>\n",
              "      <td>NaN</td>\n",
              "      <td>NaN</td>\n",
              "      <td>NaN</td>\n",
              "      <td>NaN</td>\n",
              "      <td>NaN</td>\n",
              "    </tr>\n",
              "  </tbody>\n",
              "</table>\n",
              "<p>88822 rows × 13 columns</p>\n",
              "</div>\n",
              "      <button class=\"colab-df-convert\" onclick=\"convertToInteractive('df-38d84010-e10c-469c-ad18-3236c612b67e')\"\n",
              "              title=\"Convert this dataframe to an interactive table.\"\n",
              "              style=\"display:none;\">\n",
              "        \n",
              "  <svg xmlns=\"http://www.w3.org/2000/svg\" height=\"24px\"viewBox=\"0 0 24 24\"\n",
              "       width=\"24px\">\n",
              "    <path d=\"M0 0h24v24H0V0z\" fill=\"none\"/>\n",
              "    <path d=\"M18.56 5.44l.94 2.06.94-2.06 2.06-.94-2.06-.94-.94-2.06-.94 2.06-2.06.94zm-11 1L8.5 8.5l.94-2.06 2.06-.94-2.06-.94L8.5 2.5l-.94 2.06-2.06.94zm10 10l.94 2.06.94-2.06 2.06-.94-2.06-.94-.94-2.06-.94 2.06-2.06.94z\"/><path d=\"M17.41 7.96l-1.37-1.37c-.4-.4-.92-.59-1.43-.59-.52 0-1.04.2-1.43.59L10.3 9.45l-7.72 7.72c-.78.78-.78 2.05 0 2.83L4 21.41c.39.39.9.59 1.41.59.51 0 1.02-.2 1.41-.59l7.78-7.78 2.81-2.81c.8-.78.8-2.07 0-2.86zM5.41 20L4 18.59l7.72-7.72 1.47 1.35L5.41 20z\"/>\n",
              "  </svg>\n",
              "      </button>\n",
              "      \n",
              "  <style>\n",
              "    .colab-df-container {\n",
              "      display:flex;\n",
              "      flex-wrap:wrap;\n",
              "      gap: 12px;\n",
              "    }\n",
              "\n",
              "    .colab-df-convert {\n",
              "      background-color: #E8F0FE;\n",
              "      border: none;\n",
              "      border-radius: 50%;\n",
              "      cursor: pointer;\n",
              "      display: none;\n",
              "      fill: #1967D2;\n",
              "      height: 32px;\n",
              "      padding: 0 0 0 0;\n",
              "      width: 32px;\n",
              "    }\n",
              "\n",
              "    .colab-df-convert:hover {\n",
              "      background-color: #E2EBFA;\n",
              "      box-shadow: 0px 1px 2px rgba(60, 64, 67, 0.3), 0px 1px 3px 1px rgba(60, 64, 67, 0.15);\n",
              "      fill: #174EA6;\n",
              "    }\n",
              "\n",
              "    [theme=dark] .colab-df-convert {\n",
              "      background-color: #3B4455;\n",
              "      fill: #D2E3FC;\n",
              "    }\n",
              "\n",
              "    [theme=dark] .colab-df-convert:hover {\n",
              "      background-color: #434B5C;\n",
              "      box-shadow: 0px 1px 3px 1px rgba(0, 0, 0, 0.15);\n",
              "      filter: drop-shadow(0px 1px 2px rgba(0, 0, 0, 0.3));\n",
              "      fill: #FFFFFF;\n",
              "    }\n",
              "  </style>\n",
              "\n",
              "      <script>\n",
              "        const buttonEl =\n",
              "          document.querySelector('#df-38d84010-e10c-469c-ad18-3236c612b67e button.colab-df-convert');\n",
              "        buttonEl.style.display =\n",
              "          google.colab.kernel.accessAllowed ? 'block' : 'none';\n",
              "\n",
              "        async function convertToInteractive(key) {\n",
              "          const element = document.querySelector('#df-38d84010-e10c-469c-ad18-3236c612b67e');\n",
              "          const dataTable =\n",
              "            await google.colab.kernel.invokeFunction('convertToInteractive',\n",
              "                                                     [key], {});\n",
              "          if (!dataTable) return;\n",
              "\n",
              "          const docLinkHtml = 'Like what you see? Visit the ' +\n",
              "            '<a target=\"_blank\" href=https://colab.research.google.com/notebooks/data_table.ipynb>data table notebook</a>'\n",
              "            + ' to learn more about interactive tables.';\n",
              "          element.innerHTML = '';\n",
              "          dataTable['output_type'] = 'display_data';\n",
              "          await google.colab.output.renderOutput(dataTable, element);\n",
              "          const docLink = document.createElement('div');\n",
              "          docLink.innerHTML = docLinkHtml;\n",
              "          element.appendChild(docLink);\n",
              "        }\n",
              "      </script>\n",
              "    </div>\n",
              "  </div>\n",
              "  "
            ]
          },
          "metadata": {},
          "execution_count": 61
        }
      ],
      "source": [
        "df"
      ]
    },
    {
      "cell_type": "code",
      "execution_count": 62,
      "metadata": {
        "colab": {
          "base_uri": "https://localhost:8080/"
        },
        "id": "ChSBvfCOATKd",
        "outputId": "26e1702e-d1a9-4aad-a4c6-84ccaae4372a"
      },
      "outputs": [
        {
          "output_type": "execute_result",
          "data": {
            "text/plain": [
              "array([2011., 2012., 2013.,   nan])"
            ]
          },
          "metadata": {},
          "execution_count": 62
        }
      ],
      "source": [
        "# THE UNIQUE VALUES IN THE COLUMN OF \"Year\n",
        "\n",
        "df[\"Year\"].unique()"
      ]
    },
    {
      "cell_type": "raw",
      "metadata": {
        "id": "EOXxnzj9ATKd"
      },
      "source": [
        "Desired Output:\n",
        "\n",
        "array([2011, 2012, 2013, 2014], dtype=int64)"
      ]
    },
    {
      "cell_type": "markdown",
      "metadata": {
        "id": "3KfOM05LAd_S"
      },
      "source": [
        "### Print out max and avg values in the column of \"Totalpay\"."
      ]
    },
    {
      "cell_type": "code",
      "execution_count": 63,
      "metadata": {
        "id": "gZM_k1oGAd_S",
        "outputId": "abf7530f-f0bb-4a44-9e0e-6a54145cb05b",
        "colab": {
          "base_uri": "https://localhost:8080/"
        }
      },
      "outputs": [
        {
          "output_type": "execute_result",
          "data": {
            "text/plain": [
              "567595.43"
            ]
          },
          "metadata": {},
          "execution_count": 63
        }
      ],
      "source": [
        "# THE MAXIMUM TOTALPAY\n",
        "\n",
        "\n",
        "df[\"TotalPay\"].max()   "
      ]
    },
    {
      "cell_type": "raw",
      "metadata": {
        "id": "4v_VCyDZATKe"
      },
      "source": [
        "Desired Output:\n",
        "\n",
        "567595.43"
      ]
    },
    {
      "cell_type": "code",
      "execution_count": 64,
      "metadata": {
        "id": "5QVwTgbKAd_S",
        "outputId": "fc450e9e-151e-414b-938f-6282d1872d45",
        "colab": {
          "base_uri": "https://localhost:8080/"
        }
      },
      "outputs": [
        {
          "output_type": "execute_result",
          "data": {
            "text/plain": [
              "82572.54297339593"
            ]
          },
          "metadata": {},
          "execution_count": 64
        }
      ],
      "source": [
        "# THE AVERAGE TOTALPAY\n",
        "\n",
        "\n",
        "df[\"TotalPay\"].mean()"
      ]
    },
    {
      "cell_type": "raw",
      "metadata": {
        "id": "GdLCRiQVATKe"
      },
      "source": [
        "Desired Output:\n",
        "\n",
        "74768.321971703"
      ]
    },
    {
      "cell_type": "markdown",
      "metadata": {
        "id": "PBH4LugjAd_T"
      },
      "source": [
        "### How many records in the TotalPay column are there bigger than avg TotalPay?"
      ]
    },
    {
      "cell_type": "code",
      "execution_count": 65,
      "metadata": {
        "colab": {
          "base_uri": "https://localhost:8080/",
          "height": 641
        },
        "id": "BwE0z5OmATKf",
        "outputId": "7e5b4c37-e2f5-4f6b-88a9-e39d0be708f7"
      },
      "outputs": [
        {
          "output_type": "execute_result",
          "data": {
            "text/plain": [
              "          Id            EmployeeName  \\\n",
              "0          1          NATHANIEL FORD   \n",
              "1          2            GARY JIMENEZ   \n",
              "2          3          ALBERT PARDINI   \n",
              "3          4       CHRISTOPHER CHONG   \n",
              "4          5         PATRICK GARDNER   \n",
              "...      ...                     ...   \n",
              "88805  88806             Henry  Choy   \n",
              "88807  88808      Patricia M Vicente   \n",
              "88808  88809  Jaroslaw  Wedrychowski   \n",
              "88810  88811         Abigail F Maher   \n",
              "88818  88819          Craig S Rigler   \n",
              "\n",
              "                                             JobTitle    BasePay  OvertimePay  \\\n",
              "0      GENERAL MANAGER-METROPOLITAN TRANSIT AUTHORITY  167411.18         0.00   \n",
              "1                     CAPTAIN III (POLICE DEPARTMENT)  155966.02    245131.88   \n",
              "2                     CAPTAIN III (POLICE DEPARTMENT)  212739.13    106088.18   \n",
              "3                WIRE ROPE CABLE MAINTENANCE MECHANIC   77916.00     56120.71   \n",
              "4        DEPUTY CHIEF OF DEPARTMENT,(FIRE DEPARTMENT)  134401.60      9737.00   \n",
              "...                                               ...        ...          ...   \n",
              "88805                   Airport Operations Supervisor   80589.84      1241.63   \n",
              "88807                       Senior Eligibility Worker   75033.02      5578.51   \n",
              "88808                     Forensic Autopsy Technician   73899.00      7162.09   \n",
              "88810                   Senior Administrative Analyst   92179.03         0.00   \n",
              "88818                    Sr Fare Collections Receiver   70767.00      5605.01   \n",
              "\n",
              "        OtherPay  Benefits   TotalPay  TotalPayBenefits    Year  Notes  \\\n",
              "0      400184.25       NaN  567595.43         567595.43  2011.0    NaN   \n",
              "1      137811.38       NaN  538909.28         538909.28  2011.0    NaN   \n",
              "2       16452.60       NaN  335279.91         335279.91  2011.0    NaN   \n",
              "3      198306.90       NaN  332343.61         332343.61  2011.0    NaN   \n",
              "4      182234.59       NaN  326373.19         326373.19  2011.0    NaN   \n",
              "...          ...       ...        ...               ...     ...    ...   \n",
              "88805     983.86  28821.08   82815.33         111636.41  2013.0    NaN   \n",
              "88807    2048.00  28964.63   82659.53         111624.16  2013.0    NaN   \n",
              "88808    1863.00  28700.06   82924.09         111624.15  2013.0    NaN   \n",
              "88810       0.00  19430.74   92179.03         111609.77  2013.0    NaN   \n",
              "88818    6289.10  28933.19   82661.11         111594.30  2013.0    NaN   \n",
              "\n",
              "              Agency  Status  \n",
              "0      San Francisco     NaN  \n",
              "1      San Francisco     NaN  \n",
              "2      San Francisco     NaN  \n",
              "3      San Francisco     NaN  \n",
              "4      San Francisco     NaN  \n",
              "...              ...     ...  \n",
              "88805  San Francisco     NaN  \n",
              "88807  San Francisco     NaN  \n",
              "88808  San Francisco     NaN  \n",
              "88810  San Francisco     NaN  \n",
              "88818  San Francisco     NaN  \n",
              "\n",
              "[43648 rows x 13 columns]"
            ],
            "text/html": [
              "\n",
              "  <div id=\"df-9de894a6-b7b2-4807-af6f-45827dd2e840\">\n",
              "    <div class=\"colab-df-container\">\n",
              "      <div>\n",
              "<style scoped>\n",
              "    .dataframe tbody tr th:only-of-type {\n",
              "        vertical-align: middle;\n",
              "    }\n",
              "\n",
              "    .dataframe tbody tr th {\n",
              "        vertical-align: top;\n",
              "    }\n",
              "\n",
              "    .dataframe thead th {\n",
              "        text-align: right;\n",
              "    }\n",
              "</style>\n",
              "<table border=\"1\" class=\"dataframe\">\n",
              "  <thead>\n",
              "    <tr style=\"text-align: right;\">\n",
              "      <th></th>\n",
              "      <th>Id</th>\n",
              "      <th>EmployeeName</th>\n",
              "      <th>JobTitle</th>\n",
              "      <th>BasePay</th>\n",
              "      <th>OvertimePay</th>\n",
              "      <th>OtherPay</th>\n",
              "      <th>Benefits</th>\n",
              "      <th>TotalPay</th>\n",
              "      <th>TotalPayBenefits</th>\n",
              "      <th>Year</th>\n",
              "      <th>Notes</th>\n",
              "      <th>Agency</th>\n",
              "      <th>Status</th>\n",
              "    </tr>\n",
              "  </thead>\n",
              "  <tbody>\n",
              "    <tr>\n",
              "      <th>0</th>\n",
              "      <td>1</td>\n",
              "      <td>NATHANIEL FORD</td>\n",
              "      <td>GENERAL MANAGER-METROPOLITAN TRANSIT AUTHORITY</td>\n",
              "      <td>167411.18</td>\n",
              "      <td>0.00</td>\n",
              "      <td>400184.25</td>\n",
              "      <td>NaN</td>\n",
              "      <td>567595.43</td>\n",
              "      <td>567595.43</td>\n",
              "      <td>2011.0</td>\n",
              "      <td>NaN</td>\n",
              "      <td>San Francisco</td>\n",
              "      <td>NaN</td>\n",
              "    </tr>\n",
              "    <tr>\n",
              "      <th>1</th>\n",
              "      <td>2</td>\n",
              "      <td>GARY JIMENEZ</td>\n",
              "      <td>CAPTAIN III (POLICE DEPARTMENT)</td>\n",
              "      <td>155966.02</td>\n",
              "      <td>245131.88</td>\n",
              "      <td>137811.38</td>\n",
              "      <td>NaN</td>\n",
              "      <td>538909.28</td>\n",
              "      <td>538909.28</td>\n",
              "      <td>2011.0</td>\n",
              "      <td>NaN</td>\n",
              "      <td>San Francisco</td>\n",
              "      <td>NaN</td>\n",
              "    </tr>\n",
              "    <tr>\n",
              "      <th>2</th>\n",
              "      <td>3</td>\n",
              "      <td>ALBERT PARDINI</td>\n",
              "      <td>CAPTAIN III (POLICE DEPARTMENT)</td>\n",
              "      <td>212739.13</td>\n",
              "      <td>106088.18</td>\n",
              "      <td>16452.60</td>\n",
              "      <td>NaN</td>\n",
              "      <td>335279.91</td>\n",
              "      <td>335279.91</td>\n",
              "      <td>2011.0</td>\n",
              "      <td>NaN</td>\n",
              "      <td>San Francisco</td>\n",
              "      <td>NaN</td>\n",
              "    </tr>\n",
              "    <tr>\n",
              "      <th>3</th>\n",
              "      <td>4</td>\n",
              "      <td>CHRISTOPHER CHONG</td>\n",
              "      <td>WIRE ROPE CABLE MAINTENANCE MECHANIC</td>\n",
              "      <td>77916.00</td>\n",
              "      <td>56120.71</td>\n",
              "      <td>198306.90</td>\n",
              "      <td>NaN</td>\n",
              "      <td>332343.61</td>\n",
              "      <td>332343.61</td>\n",
              "      <td>2011.0</td>\n",
              "      <td>NaN</td>\n",
              "      <td>San Francisco</td>\n",
              "      <td>NaN</td>\n",
              "    </tr>\n",
              "    <tr>\n",
              "      <th>4</th>\n",
              "      <td>5</td>\n",
              "      <td>PATRICK GARDNER</td>\n",
              "      <td>DEPUTY CHIEF OF DEPARTMENT,(FIRE DEPARTMENT)</td>\n",
              "      <td>134401.60</td>\n",
              "      <td>9737.00</td>\n",
              "      <td>182234.59</td>\n",
              "      <td>NaN</td>\n",
              "      <td>326373.19</td>\n",
              "      <td>326373.19</td>\n",
              "      <td>2011.0</td>\n",
              "      <td>NaN</td>\n",
              "      <td>San Francisco</td>\n",
              "      <td>NaN</td>\n",
              "    </tr>\n",
              "    <tr>\n",
              "      <th>...</th>\n",
              "      <td>...</td>\n",
              "      <td>...</td>\n",
              "      <td>...</td>\n",
              "      <td>...</td>\n",
              "      <td>...</td>\n",
              "      <td>...</td>\n",
              "      <td>...</td>\n",
              "      <td>...</td>\n",
              "      <td>...</td>\n",
              "      <td>...</td>\n",
              "      <td>...</td>\n",
              "      <td>...</td>\n",
              "      <td>...</td>\n",
              "    </tr>\n",
              "    <tr>\n",
              "      <th>88805</th>\n",
              "      <td>88806</td>\n",
              "      <td>Henry  Choy</td>\n",
              "      <td>Airport Operations Supervisor</td>\n",
              "      <td>80589.84</td>\n",
              "      <td>1241.63</td>\n",
              "      <td>983.86</td>\n",
              "      <td>28821.08</td>\n",
              "      <td>82815.33</td>\n",
              "      <td>111636.41</td>\n",
              "      <td>2013.0</td>\n",
              "      <td>NaN</td>\n",
              "      <td>San Francisco</td>\n",
              "      <td>NaN</td>\n",
              "    </tr>\n",
              "    <tr>\n",
              "      <th>88807</th>\n",
              "      <td>88808</td>\n",
              "      <td>Patricia M Vicente</td>\n",
              "      <td>Senior Eligibility Worker</td>\n",
              "      <td>75033.02</td>\n",
              "      <td>5578.51</td>\n",
              "      <td>2048.00</td>\n",
              "      <td>28964.63</td>\n",
              "      <td>82659.53</td>\n",
              "      <td>111624.16</td>\n",
              "      <td>2013.0</td>\n",
              "      <td>NaN</td>\n",
              "      <td>San Francisco</td>\n",
              "      <td>NaN</td>\n",
              "    </tr>\n",
              "    <tr>\n",
              "      <th>88808</th>\n",
              "      <td>88809</td>\n",
              "      <td>Jaroslaw  Wedrychowski</td>\n",
              "      <td>Forensic Autopsy Technician</td>\n",
              "      <td>73899.00</td>\n",
              "      <td>7162.09</td>\n",
              "      <td>1863.00</td>\n",
              "      <td>28700.06</td>\n",
              "      <td>82924.09</td>\n",
              "      <td>111624.15</td>\n",
              "      <td>2013.0</td>\n",
              "      <td>NaN</td>\n",
              "      <td>San Francisco</td>\n",
              "      <td>NaN</td>\n",
              "    </tr>\n",
              "    <tr>\n",
              "      <th>88810</th>\n",
              "      <td>88811</td>\n",
              "      <td>Abigail F Maher</td>\n",
              "      <td>Senior Administrative Analyst</td>\n",
              "      <td>92179.03</td>\n",
              "      <td>0.00</td>\n",
              "      <td>0.00</td>\n",
              "      <td>19430.74</td>\n",
              "      <td>92179.03</td>\n",
              "      <td>111609.77</td>\n",
              "      <td>2013.0</td>\n",
              "      <td>NaN</td>\n",
              "      <td>San Francisco</td>\n",
              "      <td>NaN</td>\n",
              "    </tr>\n",
              "    <tr>\n",
              "      <th>88818</th>\n",
              "      <td>88819</td>\n",
              "      <td>Craig S Rigler</td>\n",
              "      <td>Sr Fare Collections Receiver</td>\n",
              "      <td>70767.00</td>\n",
              "      <td>5605.01</td>\n",
              "      <td>6289.10</td>\n",
              "      <td>28933.19</td>\n",
              "      <td>82661.11</td>\n",
              "      <td>111594.30</td>\n",
              "      <td>2013.0</td>\n",
              "      <td>NaN</td>\n",
              "      <td>San Francisco</td>\n",
              "      <td>NaN</td>\n",
              "    </tr>\n",
              "  </tbody>\n",
              "</table>\n",
              "<p>43648 rows × 13 columns</p>\n",
              "</div>\n",
              "      <button class=\"colab-df-convert\" onclick=\"convertToInteractive('df-9de894a6-b7b2-4807-af6f-45827dd2e840')\"\n",
              "              title=\"Convert this dataframe to an interactive table.\"\n",
              "              style=\"display:none;\">\n",
              "        \n",
              "  <svg xmlns=\"http://www.w3.org/2000/svg\" height=\"24px\"viewBox=\"0 0 24 24\"\n",
              "       width=\"24px\">\n",
              "    <path d=\"M0 0h24v24H0V0z\" fill=\"none\"/>\n",
              "    <path d=\"M18.56 5.44l.94 2.06.94-2.06 2.06-.94-2.06-.94-.94-2.06-.94 2.06-2.06.94zm-11 1L8.5 8.5l.94-2.06 2.06-.94-2.06-.94L8.5 2.5l-.94 2.06-2.06.94zm10 10l.94 2.06.94-2.06 2.06-.94-2.06-.94-.94-2.06-.94 2.06-2.06.94z\"/><path d=\"M17.41 7.96l-1.37-1.37c-.4-.4-.92-.59-1.43-.59-.52 0-1.04.2-1.43.59L10.3 9.45l-7.72 7.72c-.78.78-.78 2.05 0 2.83L4 21.41c.39.39.9.59 1.41.59.51 0 1.02-.2 1.41-.59l7.78-7.78 2.81-2.81c.8-.78.8-2.07 0-2.86zM5.41 20L4 18.59l7.72-7.72 1.47 1.35L5.41 20z\"/>\n",
              "  </svg>\n",
              "      </button>\n",
              "      \n",
              "  <style>\n",
              "    .colab-df-container {\n",
              "      display:flex;\n",
              "      flex-wrap:wrap;\n",
              "      gap: 12px;\n",
              "    }\n",
              "\n",
              "    .colab-df-convert {\n",
              "      background-color: #E8F0FE;\n",
              "      border: none;\n",
              "      border-radius: 50%;\n",
              "      cursor: pointer;\n",
              "      display: none;\n",
              "      fill: #1967D2;\n",
              "      height: 32px;\n",
              "      padding: 0 0 0 0;\n",
              "      width: 32px;\n",
              "    }\n",
              "\n",
              "    .colab-df-convert:hover {\n",
              "      background-color: #E2EBFA;\n",
              "      box-shadow: 0px 1px 2px rgba(60, 64, 67, 0.3), 0px 1px 3px 1px rgba(60, 64, 67, 0.15);\n",
              "      fill: #174EA6;\n",
              "    }\n",
              "\n",
              "    [theme=dark] .colab-df-convert {\n",
              "      background-color: #3B4455;\n",
              "      fill: #D2E3FC;\n",
              "    }\n",
              "\n",
              "    [theme=dark] .colab-df-convert:hover {\n",
              "      background-color: #434B5C;\n",
              "      box-shadow: 0px 1px 3px 1px rgba(0, 0, 0, 0.15);\n",
              "      filter: drop-shadow(0px 1px 2px rgba(0, 0, 0, 0.3));\n",
              "      fill: #FFFFFF;\n",
              "    }\n",
              "  </style>\n",
              "\n",
              "      <script>\n",
              "        const buttonEl =\n",
              "          document.querySelector('#df-9de894a6-b7b2-4807-af6f-45827dd2e840 button.colab-df-convert');\n",
              "        buttonEl.style.display =\n",
              "          google.colab.kernel.accessAllowed ? 'block' : 'none';\n",
              "\n",
              "        async function convertToInteractive(key) {\n",
              "          const element = document.querySelector('#df-9de894a6-b7b2-4807-af6f-45827dd2e840');\n",
              "          const dataTable =\n",
              "            await google.colab.kernel.invokeFunction('convertToInteractive',\n",
              "                                                     [key], {});\n",
              "          if (!dataTable) return;\n",
              "\n",
              "          const docLinkHtml = 'Like what you see? Visit the ' +\n",
              "            '<a target=\"_blank\" href=https://colab.research.google.com/notebooks/data_table.ipynb>data table notebook</a>'\n",
              "            + ' to learn more about interactive tables.';\n",
              "          element.innerHTML = '';\n",
              "          dataTable['output_type'] = 'display_data';\n",
              "          await google.colab.output.renderOutput(dataTable, element);\n",
              "          const docLink = document.createElement('div');\n",
              "          docLink.innerHTML = docLinkHtml;\n",
              "          element.appendChild(docLink);\n",
              "        }\n",
              "      </script>\n",
              "    </div>\n",
              "  </div>\n",
              "  "
            ]
          },
          "metadata": {},
          "execution_count": 65
        }
      ],
      "source": [
        "# YOUR CODE IS HERE \n",
        "\n",
        "\n",
        "df[df[\"TotalPay\"] > df[\"TotalPay\"].mean()]\n"
      ]
    },
    {
      "cell_type": "markdown",
      "metadata": {
        "id": "VpMZZi7YATKf"
      },
      "source": [
        "Desired Output:\n",
        "\n",
        "![image.png](https://i.ibb.co/nj84FbZ/assignment1d.png)"
      ]
    },
    {
      "cell_type": "code",
      "execution_count": 71,
      "metadata": {
        "id": "DzLK-P0zAd_T",
        "outputId": "58bbe294-8dc7-44c2-e606-43e6b1447163",
        "colab": {
          "base_uri": "https://localhost:8080/"
        }
      },
      "outputs": [
        {
          "output_type": "execute_result",
          "data": {
            "text/plain": [
              "43648"
            ]
          },
          "metadata": {},
          "execution_count": 71
        }
      ],
      "source": [
        "# YOUR CODE IS HERE \n",
        "\n",
        "#df[df[\"TotalPay\"]>df['TotalPay'].mean()].count(\"index\")[\"TotalPay\"]\n",
        "\n",
        "df_shape = df[df[\"TotalPay\"] > df[\"TotalPay\"].mean()].shape\n",
        "df_shape\n",
        "# row = df_shape[0]\n",
        "df_shape[0]\n",
        "\n",
        "\n"
      ]
    },
    {
      "cell_type": "raw",
      "metadata": {
        "id": "8xx9nXcaATKg"
      },
      "source": [
        "Desired Output:\n",
        "\n",
        "69489"
      ]
    },
    {
      "cell_type": "markdown",
      "metadata": {
        "id": "msGIAyWWAd_T"
      },
      "source": [
        "### How much does ALBERT PARDINI make money (including benefits)?"
      ]
    },
    {
      "cell_type": "code",
      "execution_count": 72,
      "metadata": {
        "id": "Lp85lU0cAd_T",
        "outputId": "13471826-f00e-4a56-f2f0-e41f099dff60",
        "colab": {
          "base_uri": "https://localhost:8080/"
        }
      },
      "outputs": [
        {
          "output_type": "execute_result",
          "data": {
            "text/plain": [
              "2    335279.91\n",
              "Name: TotalPayBenefits, dtype: float64"
            ]
          },
          "metadata": {},
          "execution_count": 72
        }
      ],
      "source": [
        "# YOUR CODE IS HERE \n",
        "\n",
        "df[df[\"EmployeeName\"] == \"ALBERT PARDINI\"][\"TotalPayBenefits\"]\n"
      ]
    },
    {
      "cell_type": "raw",
      "metadata": {
        "id": "na03LnIVATKg"
      },
      "source": [
        "Desired Output:\n",
        "\n",
        "2    335279.91\n",
        "Name: TotalPayBenefits, dtype: float64"
      ]
    },
    {
      "cell_type": "markdown",
      "metadata": {
        "id": "EhGLJuApAd_U"
      },
      "source": [
        "### Who is the lowest paid person?"
      ]
    },
    {
      "cell_type": "code",
      "execution_count": 73,
      "metadata": {
        "id": "9x8QkcP2Ad_U",
        "outputId": "befc36e1-2c04-4886-dce5-472eabac37fa",
        "colab": {
          "base_uri": "https://localhost:8080/"
        }
      },
      "outputs": [
        {
          "output_type": "execute_result",
          "data": {
            "text/plain": [
              "36156        PAULETTE ADAMS\n",
              "36157         KAUKAB MOHSIN\n",
              "36158    JOSEPHINE MCCREARY\n",
              "70877         Roland Baylon\n",
              "70927      Felecia Phillips\n",
              "70928       Robert Giannini\n",
              "70932            Nelly Kuan\n",
              "70933       William Mathews\n",
              "70942         Gayle Mathews\n",
              "70956          Linda Carter\n",
              "70960         Hui Qin Zhang\n",
              "70989       Georgina Pineda\n",
              "70990    Millicent Williams\n",
              "70991           Richard Lee\n",
              "70992          Audrey Sylve\n",
              "70993      Kimberly Johnson\n",
              "70994        Teddy Querubin\n",
              "70995         Joann Seabury\n",
              "70996           David Reyes\n",
              "70997            Ana Garcia\n",
              "71077           Heidi Sieck\n",
              "72797             Vao Davis\n",
              "72804         Merritt Brown\n",
              "72829       Refugio Sanchez\n",
              "72853      Johnnie Benjamin\n",
              "72876            Victor Pon\n",
              "72911         Amy Winkelman\n",
              "72921          John Carajan\n",
              "Name: EmployeeName, dtype: object"
            ]
          },
          "metadata": {},
          "execution_count": 73
        }
      ],
      "source": [
        "# YOUR CODE IS HERE\n",
        "\n",
        "df[df[\"TotalPay\"] == df[\"TotalPay\"].min()][\"EmployeeName\"]"
      ]
    },
    {
      "cell_type": "raw",
      "metadata": {
        "id": "3Wo9kRP3ATKh"
      },
      "source": [
        "Desired Output:\n",
        "\n",
        "148653    Joe Lopez\n",
        "Name: EmployeeName, dtype: object"
      ]
    },
    {
      "cell_type": "markdown",
      "metadata": {
        "id": "KX1hSaoCAd_U"
      },
      "source": [
        "### What are the unique Jobs in dataset?"
      ]
    },
    {
      "cell_type": "code",
      "execution_count": 74,
      "metadata": {
        "id": "O97fqU91Ad_U",
        "outputId": "0970d847-4ebc-413c-b0ba-c4f99c99e4eb",
        "colab": {
          "base_uri": "https://localhost:8080/"
        }
      },
      "outputs": [
        {
          "output_type": "execute_result",
          "data": {
            "text/plain": [
              "array(['GENERAL MANAGER-METROPOLITAN TRANSIT AUTHORITY',\n",
              "       'CAPTAIN III (POLICE DEPARTMENT)',\n",
              "       'WIRE ROPE CABLE MAINTENANCE MECHANIC', ...,\n",
              "       'Cement Finisher Supervisor 2', 'Payroll Supervisor',\n",
              "       'Transit Operat'], dtype=object)"
            ]
          },
          "metadata": {},
          "execution_count": 74
        }
      ],
      "source": [
        "# YOUR CODE IS HERE \n",
        "\n",
        "df[\"JobTitle\"].unique()"
      ]
    },
    {
      "cell_type": "raw",
      "metadata": {
        "id": "3KlDC_qvATKh"
      },
      "source": [
        "Desired Output:\n",
        "\n",
        "array(['GENERAL MANAGER-METROPOLITAN TRANSIT AUTHORITY',\n",
        "       'CAPTAIN III (POLICE DEPARTMENT)',\n",
        "       'WIRE ROPE CABLE MAINTENANCE MECHANIC', ..., 'Conversion',\n",
        "       'Cashier 3', 'Not provided'], dtype=object)"
      ]
    },
    {
      "cell_type": "markdown",
      "metadata": {
        "id": "CsYDrYVDAd_V"
      },
      "source": [
        "### List the top 3 least common Jobs in the dataset."
      ]
    },
    {
      "cell_type": "code",
      "execution_count": 75,
      "metadata": {
        "id": "DsZuPQVeAd_V",
        "outputId": "3bdc008d-dd6a-4a52-fb88-fcbdee635755",
        "colab": {
          "base_uri": "https://localhost:8080/"
        }
      },
      "outputs": [
        {
          "output_type": "execute_result",
          "data": {
            "text/plain": [
              "EMPLOYEE ASSISTANCE COUNSELOR    1\n",
              "POWER GENERATION TECHNICIAN I    1\n",
              "Transit Operat                   1\n",
              "Name: JobTitle, dtype: int64"
            ]
          },
          "metadata": {},
          "execution_count": 75
        }
      ],
      "source": [
        "# YOUR CODE IS HERE \n",
        "\n",
        "\n",
        "df[\"JobTitle\"].value_counts().tail(3)"
      ]
    },
    {
      "cell_type": "raw",
      "metadata": {
        "id": "jj81zeMrATKi"
      },
      "source": [
        "Desired Output:\n",
        "\n",
        "COURT COMPUTER FACILITIES COORDINATOR             1\n",
        "AUTOMOTIVE BODY AND FENDER WORKER SUPERVISOR I    1\n",
        "VICTIM & WITNESS TECHNICIAN                       1\n",
        "Name: JobTitle, dtype: int64"
      ]
    },
    {
      "cell_type": "markdown",
      "metadata": {
        "id": "6bY1SKD1Ad_V"
      },
      "source": [
        "### How many people earned more than avg in 2012?"
      ]
    },
    {
      "cell_type": "code",
      "execution_count": null,
      "metadata": {
        "id": "W9yhfXieAd_W",
        "outputId": "c2acaf63-1f70-454f-b2b9-cac160152735"
      },
      "outputs": [
        {
          "data": {
            "text/plain": [
              "20366"
            ]
          },
          "execution_count": 104,
          "metadata": {},
          "output_type": "execute_result"
        }
      ],
      "source": [
        "# YOUR CODE IS HERE \n",
        "\n",
        "len(df[(df[\"TotalPayBenefits\"] > df[\"TotalPayBenefits\"].mean()) & (df[\"Year\"] == 2012)])"
      ]
    },
    {
      "cell_type": "raw",
      "metadata": {
        "id": "E7ZA_L9gATKi"
      },
      "source": [
        "Desired Output:\n",
        "\n",
        "20366"
      ]
    },
    {
      "cell_type": "markdown",
      "metadata": {
        "id": "EM6JCaT-Ad_W"
      },
      "source": [
        "### How many people have a title of Manager in their jobs?"
      ]
    },
    {
      "cell_type": "code",
      "execution_count": 76,
      "metadata": {
        "id": "RjCxcXEWAd_Y",
        "outputId": "94b4e53e-b9a8-4f7d-f22a-be760f022514",
        "colab": {
          "base_uri": "https://localhost:8080/"
        }
      },
      "outputs": [
        {
          "output_type": "execute_result",
          "data": {
            "text/plain": [
              "2922"
            ]
          },
          "metadata": {},
          "execution_count": 76
        }
      ],
      "source": [
        "# USE APPLY FUNCTION\n",
        "\n",
        "# YOUR CODE IS HERE \n",
        "\n",
        "def job_title(title):\n",
        "    if \"manager\" in title.lower():\n",
        "        return True\n",
        "    else:\n",
        "        False\n",
        "\n",
        "df[\"JobTitle\"].apply(lambda x: job_title(x)).count()"
      ]
    },
    {
      "cell_type": "code",
      "execution_count": null,
      "metadata": {
        "id": "pTe03k0yATKj",
        "outputId": "ea403358-f466-4e40-9baf-a63f3e0688cb"
      },
      "outputs": [
        {
          "data": {
            "text/html": [
              "<div>\n",
              "<style scoped>\n",
              "    .dataframe tbody tr th:only-of-type {\n",
              "        vertical-align: middle;\n",
              "    }\n",
              "\n",
              "    .dataframe tbody tr th {\n",
              "        vertical-align: top;\n",
              "    }\n",
              "\n",
              "    .dataframe thead th {\n",
              "        text-align: right;\n",
              "    }\n",
              "</style>\n",
              "<table border=\"1\" class=\"dataframe\">\n",
              "  <thead>\n",
              "    <tr style=\"text-align: right;\">\n",
              "      <th></th>\n",
              "      <th>Id</th>\n",
              "      <th>EmployeeName</th>\n",
              "      <th>JobTitle</th>\n",
              "      <th>BasePay</th>\n",
              "      <th>OvertimePay</th>\n",
              "      <th>OtherPay</th>\n",
              "      <th>Benefits</th>\n",
              "      <th>TotalPay</th>\n",
              "      <th>TotalPayBenefits</th>\n",
              "      <th>Year</th>\n",
              "      <th>Notes</th>\n",
              "      <th>Agency</th>\n",
              "      <th>Status</th>\n",
              "    </tr>\n",
              "  </thead>\n",
              "  <tbody>\n",
              "    <tr>\n",
              "      <th>0</th>\n",
              "      <td>1</td>\n",
              "      <td>NATHANIEL FORD</td>\n",
              "      <td>GENERAL MANAGER-METROPOLITAN TRANSIT AUTHORITY</td>\n",
              "      <td>167411.18</td>\n",
              "      <td>0.00</td>\n",
              "      <td>400184.25</td>\n",
              "      <td>NaN</td>\n",
              "      <td>567595.43</td>\n",
              "      <td>567595.43</td>\n",
              "      <td>2011</td>\n",
              "      <td>NaN</td>\n",
              "      <td>San Francisco</td>\n",
              "      <td>NaN</td>\n",
              "    </tr>\n",
              "    <tr>\n",
              "      <th>1</th>\n",
              "      <td>2</td>\n",
              "      <td>GARY JIMENEZ</td>\n",
              "      <td>CAPTAIN III (POLICE DEPARTMENT)</td>\n",
              "      <td>155966.02</td>\n",
              "      <td>245131.88</td>\n",
              "      <td>137811.38</td>\n",
              "      <td>NaN</td>\n",
              "      <td>538909.28</td>\n",
              "      <td>538909.28</td>\n",
              "      <td>2011</td>\n",
              "      <td>NaN</td>\n",
              "      <td>San Francisco</td>\n",
              "      <td>NaN</td>\n",
              "    </tr>\n",
              "    <tr>\n",
              "      <th>2</th>\n",
              "      <td>3</td>\n",
              "      <td>ALBERT PARDINI</td>\n",
              "      <td>CAPTAIN III (POLICE DEPARTMENT)</td>\n",
              "      <td>212739.13</td>\n",
              "      <td>106088.18</td>\n",
              "      <td>16452.60</td>\n",
              "      <td>NaN</td>\n",
              "      <td>335279.91</td>\n",
              "      <td>335279.91</td>\n",
              "      <td>2011</td>\n",
              "      <td>NaN</td>\n",
              "      <td>San Francisco</td>\n",
              "      <td>NaN</td>\n",
              "    </tr>\n",
              "    <tr>\n",
              "      <th>3</th>\n",
              "      <td>4</td>\n",
              "      <td>CHRISTOPHER CHONG</td>\n",
              "      <td>WIRE ROPE CABLE MAINTENANCE MECHANIC</td>\n",
              "      <td>77916.00</td>\n",
              "      <td>56120.71</td>\n",
              "      <td>198306.90</td>\n",
              "      <td>NaN</td>\n",
              "      <td>332343.61</td>\n",
              "      <td>332343.61</td>\n",
              "      <td>2011</td>\n",
              "      <td>NaN</td>\n",
              "      <td>San Francisco</td>\n",
              "      <td>NaN</td>\n",
              "    </tr>\n",
              "    <tr>\n",
              "      <th>4</th>\n",
              "      <td>5</td>\n",
              "      <td>PATRICK GARDNER</td>\n",
              "      <td>DEPUTY CHIEF OF DEPARTMENT,(FIRE DEPARTMENT)</td>\n",
              "      <td>134401.60</td>\n",
              "      <td>9737.00</td>\n",
              "      <td>182234.59</td>\n",
              "      <td>NaN</td>\n",
              "      <td>326373.19</td>\n",
              "      <td>326373.19</td>\n",
              "      <td>2011</td>\n",
              "      <td>NaN</td>\n",
              "      <td>San Francisco</td>\n",
              "      <td>NaN</td>\n",
              "    </tr>\n",
              "    <tr>\n",
              "      <th>...</th>\n",
              "      <td>...</td>\n",
              "      <td>...</td>\n",
              "      <td>...</td>\n",
              "      <td>...</td>\n",
              "      <td>...</td>\n",
              "      <td>...</td>\n",
              "      <td>...</td>\n",
              "      <td>...</td>\n",
              "      <td>...</td>\n",
              "      <td>...</td>\n",
              "      <td>...</td>\n",
              "      <td>...</td>\n",
              "      <td>...</td>\n",
              "    </tr>\n",
              "    <tr>\n",
              "      <th>148649</th>\n",
              "      <td>148650</td>\n",
              "      <td>Roy I Tillery</td>\n",
              "      <td>Custodian</td>\n",
              "      <td>0.00</td>\n",
              "      <td>0.00</td>\n",
              "      <td>0.00</td>\n",
              "      <td>0.0</td>\n",
              "      <td>0.00</td>\n",
              "      <td>0.00</td>\n",
              "      <td>2014</td>\n",
              "      <td>NaN</td>\n",
              "      <td>San Francisco</td>\n",
              "      <td>NaN</td>\n",
              "    </tr>\n",
              "    <tr>\n",
              "      <th>148650</th>\n",
              "      <td>148651</td>\n",
              "      <td>Not provided</td>\n",
              "      <td>Not provided</td>\n",
              "      <td>NaN</td>\n",
              "      <td>NaN</td>\n",
              "      <td>NaN</td>\n",
              "      <td>NaN</td>\n",
              "      <td>0.00</td>\n",
              "      <td>0.00</td>\n",
              "      <td>2014</td>\n",
              "      <td>NaN</td>\n",
              "      <td>San Francisco</td>\n",
              "      <td>NaN</td>\n",
              "    </tr>\n",
              "    <tr>\n",
              "      <th>148651</th>\n",
              "      <td>148652</td>\n",
              "      <td>Not provided</td>\n",
              "      <td>Not provided</td>\n",
              "      <td>NaN</td>\n",
              "      <td>NaN</td>\n",
              "      <td>NaN</td>\n",
              "      <td>NaN</td>\n",
              "      <td>0.00</td>\n",
              "      <td>0.00</td>\n",
              "      <td>2014</td>\n",
              "      <td>NaN</td>\n",
              "      <td>San Francisco</td>\n",
              "      <td>NaN</td>\n",
              "    </tr>\n",
              "    <tr>\n",
              "      <th>148652</th>\n",
              "      <td>148653</td>\n",
              "      <td>Not provided</td>\n",
              "      <td>Not provided</td>\n",
              "      <td>NaN</td>\n",
              "      <td>NaN</td>\n",
              "      <td>NaN</td>\n",
              "      <td>NaN</td>\n",
              "      <td>0.00</td>\n",
              "      <td>0.00</td>\n",
              "      <td>2014</td>\n",
              "      <td>NaN</td>\n",
              "      <td>San Francisco</td>\n",
              "      <td>NaN</td>\n",
              "    </tr>\n",
              "    <tr>\n",
              "      <th>148653</th>\n",
              "      <td>148654</td>\n",
              "      <td>Joe Lopez</td>\n",
              "      <td>Counselor, Log Cabin Ranch</td>\n",
              "      <td>0.00</td>\n",
              "      <td>0.00</td>\n",
              "      <td>-618.13</td>\n",
              "      <td>0.0</td>\n",
              "      <td>-618.13</td>\n",
              "      <td>-618.13</td>\n",
              "      <td>2014</td>\n",
              "      <td>NaN</td>\n",
              "      <td>San Francisco</td>\n",
              "      <td>NaN</td>\n",
              "    </tr>\n",
              "  </tbody>\n",
              "</table>\n",
              "<p>148654 rows × 13 columns</p>\n",
              "</div>"
            ],
            "text/plain": [
              "            Id       EmployeeName  \\\n",
              "0            1     NATHANIEL FORD   \n",
              "1            2       GARY JIMENEZ   \n",
              "2            3     ALBERT PARDINI   \n",
              "3            4  CHRISTOPHER CHONG   \n",
              "4            5    PATRICK GARDNER   \n",
              "...        ...                ...   \n",
              "148649  148650      Roy I Tillery   \n",
              "148650  148651       Not provided   \n",
              "148651  148652       Not provided   \n",
              "148652  148653       Not provided   \n",
              "148653  148654          Joe Lopez   \n",
              "\n",
              "                                              JobTitle    BasePay  \\\n",
              "0       GENERAL MANAGER-METROPOLITAN TRANSIT AUTHORITY  167411.18   \n",
              "1                      CAPTAIN III (POLICE DEPARTMENT)  155966.02   \n",
              "2                      CAPTAIN III (POLICE DEPARTMENT)  212739.13   \n",
              "3                 WIRE ROPE CABLE MAINTENANCE MECHANIC   77916.00   \n",
              "4         DEPUTY CHIEF OF DEPARTMENT,(FIRE DEPARTMENT)  134401.60   \n",
              "...                                                ...        ...   \n",
              "148649                                       Custodian       0.00   \n",
              "148650                                    Not provided        NaN   \n",
              "148651                                    Not provided        NaN   \n",
              "148652                                    Not provided        NaN   \n",
              "148653                      Counselor, Log Cabin Ranch       0.00   \n",
              "\n",
              "        OvertimePay   OtherPay  Benefits   TotalPay  TotalPayBenefits  Year  \\\n",
              "0              0.00  400184.25       NaN  567595.43         567595.43  2011   \n",
              "1         245131.88  137811.38       NaN  538909.28         538909.28  2011   \n",
              "2         106088.18   16452.60       NaN  335279.91         335279.91  2011   \n",
              "3          56120.71  198306.90       NaN  332343.61         332343.61  2011   \n",
              "4           9737.00  182234.59       NaN  326373.19         326373.19  2011   \n",
              "...             ...        ...       ...        ...               ...   ...   \n",
              "148649         0.00       0.00       0.0       0.00              0.00  2014   \n",
              "148650          NaN        NaN       NaN       0.00              0.00  2014   \n",
              "148651          NaN        NaN       NaN       0.00              0.00  2014   \n",
              "148652          NaN        NaN       NaN       0.00              0.00  2014   \n",
              "148653         0.00    -618.13       0.0    -618.13           -618.13  2014   \n",
              "\n",
              "        Notes         Agency  Status  \n",
              "0         NaN  San Francisco     NaN  \n",
              "1         NaN  San Francisco     NaN  \n",
              "2         NaN  San Francisco     NaN  \n",
              "3         NaN  San Francisco     NaN  \n",
              "4         NaN  San Francisco     NaN  \n",
              "...       ...            ...     ...  \n",
              "148649    NaN  San Francisco     NaN  \n",
              "148650    NaN  San Francisco     NaN  \n",
              "148651    NaN  San Francisco     NaN  \n",
              "148652    NaN  San Francisco     NaN  \n",
              "148653    NaN  San Francisco     NaN  \n",
              "\n",
              "[148654 rows x 13 columns]"
            ]
          },
          "execution_count": 105,
          "metadata": {},
          "output_type": "execute_result"
        }
      ],
      "source": [
        "df"
      ]
    },
    {
      "cell_type": "raw",
      "metadata": {
        "id": "Fyp4IoO3ATKk"
      },
      "source": [
        "Desired Output:\n",
        "\n",
        "4110"
      ]
    },
    {
      "cell_type": "markdown",
      "metadata": {
        "id": "UsSkiFyVAd_Y"
      },
      "source": [
        "### Take Id, EmployeeName, JobTitle, TotalPay and TotalPayBenefits columns with iloc and assign them as sal_new dataframe."
      ]
    },
    {
      "cell_type": "code",
      "execution_count": 77,
      "metadata": {
        "id": "31MPBM2UAd_Y",
        "outputId": "da07c3cb-84e2-4e9e-c014-274f059c3ccc",
        "colab": {
          "base_uri": "https://localhost:8080/",
          "height": 424
        }
      },
      "outputs": [
        {
          "output_type": "execute_result",
          "data": {
            "text/plain": [
              "          Id       EmployeeName  \\\n",
              "0          1     NATHANIEL FORD   \n",
              "1          2       GARY JIMENEZ   \n",
              "2          3     ALBERT PARDINI   \n",
              "3          4  CHRISTOPHER CHONG   \n",
              "4          5    PATRICK GARDNER   \n",
              "...      ...                ...   \n",
              "88817  88818        Janey  Chan   \n",
              "88818  88819     Craig S Rigler   \n",
              "88819  88820      James A Cecil   \n",
              "88820  88821     Ramona  Torres   \n",
              "88821  88822        Gary R Farr   \n",
              "\n",
              "                                             JobTitle   TotalPay  \\\n",
              "0      GENERAL MANAGER-METROPOLITAN TRANSIT AUTHORITY  567595.43   \n",
              "1                     CAPTAIN III (POLICE DEPARTMENT)  538909.28   \n",
              "2                     CAPTAIN III (POLICE DEPARTMENT)  335279.91   \n",
              "3                WIRE ROPE CABLE MAINTENANCE MECHANIC  332343.61   \n",
              "4        DEPUTY CHIEF OF DEPARTMENT,(FIRE DEPARTMENT)  326373.19   \n",
              "...                                               ...        ...   \n",
              "88817                                       Asst Engr   81908.53   \n",
              "88818                    Sr Fare Collections Receiver   82661.11   \n",
              "88819                            Automotive Machinist   81737.82   \n",
              "88820                           Emp & Training Spec 2   81690.07   \n",
              "88821                                  Transit Operat        NaN   \n",
              "\n",
              "       TotalPayBenefits  \n",
              "0             567595.43  \n",
              "1             538909.28  \n",
              "2             335279.91  \n",
              "3             332343.61  \n",
              "4             326373.19  \n",
              "...                 ...  \n",
              "88817         111595.49  \n",
              "88818         111594.30  \n",
              "88819         111586.92  \n",
              "88820         111577.88  \n",
              "88821               NaN  \n",
              "\n",
              "[88822 rows x 5 columns]"
            ],
            "text/html": [
              "\n",
              "  <div id=\"df-1a804b08-38a3-4688-a8f0-cac83d055211\">\n",
              "    <div class=\"colab-df-container\">\n",
              "      <div>\n",
              "<style scoped>\n",
              "    .dataframe tbody tr th:only-of-type {\n",
              "        vertical-align: middle;\n",
              "    }\n",
              "\n",
              "    .dataframe tbody tr th {\n",
              "        vertical-align: top;\n",
              "    }\n",
              "\n",
              "    .dataframe thead th {\n",
              "        text-align: right;\n",
              "    }\n",
              "</style>\n",
              "<table border=\"1\" class=\"dataframe\">\n",
              "  <thead>\n",
              "    <tr style=\"text-align: right;\">\n",
              "      <th></th>\n",
              "      <th>Id</th>\n",
              "      <th>EmployeeName</th>\n",
              "      <th>JobTitle</th>\n",
              "      <th>TotalPay</th>\n",
              "      <th>TotalPayBenefits</th>\n",
              "    </tr>\n",
              "  </thead>\n",
              "  <tbody>\n",
              "    <tr>\n",
              "      <th>0</th>\n",
              "      <td>1</td>\n",
              "      <td>NATHANIEL FORD</td>\n",
              "      <td>GENERAL MANAGER-METROPOLITAN TRANSIT AUTHORITY</td>\n",
              "      <td>567595.43</td>\n",
              "      <td>567595.43</td>\n",
              "    </tr>\n",
              "    <tr>\n",
              "      <th>1</th>\n",
              "      <td>2</td>\n",
              "      <td>GARY JIMENEZ</td>\n",
              "      <td>CAPTAIN III (POLICE DEPARTMENT)</td>\n",
              "      <td>538909.28</td>\n",
              "      <td>538909.28</td>\n",
              "    </tr>\n",
              "    <tr>\n",
              "      <th>2</th>\n",
              "      <td>3</td>\n",
              "      <td>ALBERT PARDINI</td>\n",
              "      <td>CAPTAIN III (POLICE DEPARTMENT)</td>\n",
              "      <td>335279.91</td>\n",
              "      <td>335279.91</td>\n",
              "    </tr>\n",
              "    <tr>\n",
              "      <th>3</th>\n",
              "      <td>4</td>\n",
              "      <td>CHRISTOPHER CHONG</td>\n",
              "      <td>WIRE ROPE CABLE MAINTENANCE MECHANIC</td>\n",
              "      <td>332343.61</td>\n",
              "      <td>332343.61</td>\n",
              "    </tr>\n",
              "    <tr>\n",
              "      <th>4</th>\n",
              "      <td>5</td>\n",
              "      <td>PATRICK GARDNER</td>\n",
              "      <td>DEPUTY CHIEF OF DEPARTMENT,(FIRE DEPARTMENT)</td>\n",
              "      <td>326373.19</td>\n",
              "      <td>326373.19</td>\n",
              "    </tr>\n",
              "    <tr>\n",
              "      <th>...</th>\n",
              "      <td>...</td>\n",
              "      <td>...</td>\n",
              "      <td>...</td>\n",
              "      <td>...</td>\n",
              "      <td>...</td>\n",
              "    </tr>\n",
              "    <tr>\n",
              "      <th>88817</th>\n",
              "      <td>88818</td>\n",
              "      <td>Janey  Chan</td>\n",
              "      <td>Asst Engr</td>\n",
              "      <td>81908.53</td>\n",
              "      <td>111595.49</td>\n",
              "    </tr>\n",
              "    <tr>\n",
              "      <th>88818</th>\n",
              "      <td>88819</td>\n",
              "      <td>Craig S Rigler</td>\n",
              "      <td>Sr Fare Collections Receiver</td>\n",
              "      <td>82661.11</td>\n",
              "      <td>111594.30</td>\n",
              "    </tr>\n",
              "    <tr>\n",
              "      <th>88819</th>\n",
              "      <td>88820</td>\n",
              "      <td>James A Cecil</td>\n",
              "      <td>Automotive Machinist</td>\n",
              "      <td>81737.82</td>\n",
              "      <td>111586.92</td>\n",
              "    </tr>\n",
              "    <tr>\n",
              "      <th>88820</th>\n",
              "      <td>88821</td>\n",
              "      <td>Ramona  Torres</td>\n",
              "      <td>Emp &amp; Training Spec 2</td>\n",
              "      <td>81690.07</td>\n",
              "      <td>111577.88</td>\n",
              "    </tr>\n",
              "    <tr>\n",
              "      <th>88821</th>\n",
              "      <td>88822</td>\n",
              "      <td>Gary R Farr</td>\n",
              "      <td>Transit Operat</td>\n",
              "      <td>NaN</td>\n",
              "      <td>NaN</td>\n",
              "    </tr>\n",
              "  </tbody>\n",
              "</table>\n",
              "<p>88822 rows × 5 columns</p>\n",
              "</div>\n",
              "      <button class=\"colab-df-convert\" onclick=\"convertToInteractive('df-1a804b08-38a3-4688-a8f0-cac83d055211')\"\n",
              "              title=\"Convert this dataframe to an interactive table.\"\n",
              "              style=\"display:none;\">\n",
              "        \n",
              "  <svg xmlns=\"http://www.w3.org/2000/svg\" height=\"24px\"viewBox=\"0 0 24 24\"\n",
              "       width=\"24px\">\n",
              "    <path d=\"M0 0h24v24H0V0z\" fill=\"none\"/>\n",
              "    <path d=\"M18.56 5.44l.94 2.06.94-2.06 2.06-.94-2.06-.94-.94-2.06-.94 2.06-2.06.94zm-11 1L8.5 8.5l.94-2.06 2.06-.94-2.06-.94L8.5 2.5l-.94 2.06-2.06.94zm10 10l.94 2.06.94-2.06 2.06-.94-2.06-.94-.94-2.06-.94 2.06-2.06.94z\"/><path d=\"M17.41 7.96l-1.37-1.37c-.4-.4-.92-.59-1.43-.59-.52 0-1.04.2-1.43.59L10.3 9.45l-7.72 7.72c-.78.78-.78 2.05 0 2.83L4 21.41c.39.39.9.59 1.41.59.51 0 1.02-.2 1.41-.59l7.78-7.78 2.81-2.81c.8-.78.8-2.07 0-2.86zM5.41 20L4 18.59l7.72-7.72 1.47 1.35L5.41 20z\"/>\n",
              "  </svg>\n",
              "      </button>\n",
              "      \n",
              "  <style>\n",
              "    .colab-df-container {\n",
              "      display:flex;\n",
              "      flex-wrap:wrap;\n",
              "      gap: 12px;\n",
              "    }\n",
              "\n",
              "    .colab-df-convert {\n",
              "      background-color: #E8F0FE;\n",
              "      border: none;\n",
              "      border-radius: 50%;\n",
              "      cursor: pointer;\n",
              "      display: none;\n",
              "      fill: #1967D2;\n",
              "      height: 32px;\n",
              "      padding: 0 0 0 0;\n",
              "      width: 32px;\n",
              "    }\n",
              "\n",
              "    .colab-df-convert:hover {\n",
              "      background-color: #E2EBFA;\n",
              "      box-shadow: 0px 1px 2px rgba(60, 64, 67, 0.3), 0px 1px 3px 1px rgba(60, 64, 67, 0.15);\n",
              "      fill: #174EA6;\n",
              "    }\n",
              "\n",
              "    [theme=dark] .colab-df-convert {\n",
              "      background-color: #3B4455;\n",
              "      fill: #D2E3FC;\n",
              "    }\n",
              "\n",
              "    [theme=dark] .colab-df-convert:hover {\n",
              "      background-color: #434B5C;\n",
              "      box-shadow: 0px 1px 3px 1px rgba(0, 0, 0, 0.15);\n",
              "      filter: drop-shadow(0px 1px 2px rgba(0, 0, 0, 0.3));\n",
              "      fill: #FFFFFF;\n",
              "    }\n",
              "  </style>\n",
              "\n",
              "      <script>\n",
              "        const buttonEl =\n",
              "          document.querySelector('#df-1a804b08-38a3-4688-a8f0-cac83d055211 button.colab-df-convert');\n",
              "        buttonEl.style.display =\n",
              "          google.colab.kernel.accessAllowed ? 'block' : 'none';\n",
              "\n",
              "        async function convertToInteractive(key) {\n",
              "          const element = document.querySelector('#df-1a804b08-38a3-4688-a8f0-cac83d055211');\n",
              "          const dataTable =\n",
              "            await google.colab.kernel.invokeFunction('convertToInteractive',\n",
              "                                                     [key], {});\n",
              "          if (!dataTable) return;\n",
              "\n",
              "          const docLinkHtml = 'Like what you see? Visit the ' +\n",
              "            '<a target=\"_blank\" href=https://colab.research.google.com/notebooks/data_table.ipynb>data table notebook</a>'\n",
              "            + ' to learn more about interactive tables.';\n",
              "          element.innerHTML = '';\n",
              "          dataTable['output_type'] = 'display_data';\n",
              "          await google.colab.output.renderOutput(dataTable, element);\n",
              "          const docLink = document.createElement('div');\n",
              "          docLink.innerHTML = docLinkHtml;\n",
              "          element.appendChild(docLink);\n",
              "        }\n",
              "      </script>\n",
              "    </div>\n",
              "  </div>\n",
              "  "
            ]
          },
          "metadata": {},
          "execution_count": 77
        }
      ],
      "source": [
        "# YOUR CODE IS HERE \n",
        "\n",
        "sal_new = df.iloc[:,[0, 1, 2, 7, 8]]\n",
        "df = pd.DataFrame(sal_new)\n",
        "df"
      ]
    },
    {
      "cell_type": "markdown",
      "metadata": {
        "id": "7_uzA8N2ATKk"
      },
      "source": [
        "Desired Output:\n",
        "\n",
        "![image.png](https://i.ibb.co/ZgFCbPm/assignment1e.png)"
      ]
    },
    {
      "cell_type": "markdown",
      "metadata": {
        "id": "IDfaMS0OAd_Z"
      },
      "source": [
        "### Take the columns betweeen EmployeeName and TotalPayBenefits with loc and assign them as sal_new df."
      ]
    },
    {
      "cell_type": "code",
      "execution_count": 81,
      "metadata": {
        "id": "iXoiBJ8tAd_Z",
        "outputId": "6f65cc42-c025-4dc2-e31b-5a453022d9a1",
        "colab": {
          "base_uri": "https://localhost:8080/",
          "height": 424
        }
      },
      "outputs": [
        {
          "output_type": "execute_result",
          "data": {
            "text/plain": [
              "            EmployeeName                                        JobTitle  \\\n",
              "0         NATHANIEL FORD  GENERAL MANAGER-METROPOLITAN TRANSIT AUTHORITY   \n",
              "1           GARY JIMENEZ                 CAPTAIN III (POLICE DEPARTMENT)   \n",
              "2         ALBERT PARDINI                 CAPTAIN III (POLICE DEPARTMENT)   \n",
              "3      CHRISTOPHER CHONG            WIRE ROPE CABLE MAINTENANCE MECHANIC   \n",
              "4        PATRICK GARDNER    DEPUTY CHIEF OF DEPARTMENT,(FIRE DEPARTMENT)   \n",
              "...                  ...                                             ...   \n",
              "88817        Janey  Chan                                       Asst Engr   \n",
              "88818     Craig S Rigler                    Sr Fare Collections Receiver   \n",
              "88819      James A Cecil                            Automotive Machinist   \n",
              "88820     Ramona  Torres                           Emp & Training Spec 2   \n",
              "88821        Gary R Farr                                  Transit Operat   \n",
              "\n",
              "        TotalPay  TotalPayBenefits  \n",
              "0      567595.43         567595.43  \n",
              "1      538909.28         538909.28  \n",
              "2      335279.91         335279.91  \n",
              "3      332343.61         332343.61  \n",
              "4      326373.19         326373.19  \n",
              "...          ...               ...  \n",
              "88817   81908.53         111595.49  \n",
              "88818   82661.11         111594.30  \n",
              "88819   81737.82         111586.92  \n",
              "88820   81690.07         111577.88  \n",
              "88821        NaN               NaN  \n",
              "\n",
              "[88822 rows x 4 columns]"
            ],
            "text/html": [
              "\n",
              "  <div id=\"df-6de6e731-da7e-4edc-ac05-e6eea88a8260\">\n",
              "    <div class=\"colab-df-container\">\n",
              "      <div>\n",
              "<style scoped>\n",
              "    .dataframe tbody tr th:only-of-type {\n",
              "        vertical-align: middle;\n",
              "    }\n",
              "\n",
              "    .dataframe tbody tr th {\n",
              "        vertical-align: top;\n",
              "    }\n",
              "\n",
              "    .dataframe thead th {\n",
              "        text-align: right;\n",
              "    }\n",
              "</style>\n",
              "<table border=\"1\" class=\"dataframe\">\n",
              "  <thead>\n",
              "    <tr style=\"text-align: right;\">\n",
              "      <th></th>\n",
              "      <th>EmployeeName</th>\n",
              "      <th>JobTitle</th>\n",
              "      <th>TotalPay</th>\n",
              "      <th>TotalPayBenefits</th>\n",
              "    </tr>\n",
              "  </thead>\n",
              "  <tbody>\n",
              "    <tr>\n",
              "      <th>0</th>\n",
              "      <td>NATHANIEL FORD</td>\n",
              "      <td>GENERAL MANAGER-METROPOLITAN TRANSIT AUTHORITY</td>\n",
              "      <td>567595.43</td>\n",
              "      <td>567595.43</td>\n",
              "    </tr>\n",
              "    <tr>\n",
              "      <th>1</th>\n",
              "      <td>GARY JIMENEZ</td>\n",
              "      <td>CAPTAIN III (POLICE DEPARTMENT)</td>\n",
              "      <td>538909.28</td>\n",
              "      <td>538909.28</td>\n",
              "    </tr>\n",
              "    <tr>\n",
              "      <th>2</th>\n",
              "      <td>ALBERT PARDINI</td>\n",
              "      <td>CAPTAIN III (POLICE DEPARTMENT)</td>\n",
              "      <td>335279.91</td>\n",
              "      <td>335279.91</td>\n",
              "    </tr>\n",
              "    <tr>\n",
              "      <th>3</th>\n",
              "      <td>CHRISTOPHER CHONG</td>\n",
              "      <td>WIRE ROPE CABLE MAINTENANCE MECHANIC</td>\n",
              "      <td>332343.61</td>\n",
              "      <td>332343.61</td>\n",
              "    </tr>\n",
              "    <tr>\n",
              "      <th>4</th>\n",
              "      <td>PATRICK GARDNER</td>\n",
              "      <td>DEPUTY CHIEF OF DEPARTMENT,(FIRE DEPARTMENT)</td>\n",
              "      <td>326373.19</td>\n",
              "      <td>326373.19</td>\n",
              "    </tr>\n",
              "    <tr>\n",
              "      <th>...</th>\n",
              "      <td>...</td>\n",
              "      <td>...</td>\n",
              "      <td>...</td>\n",
              "      <td>...</td>\n",
              "    </tr>\n",
              "    <tr>\n",
              "      <th>88817</th>\n",
              "      <td>Janey  Chan</td>\n",
              "      <td>Asst Engr</td>\n",
              "      <td>81908.53</td>\n",
              "      <td>111595.49</td>\n",
              "    </tr>\n",
              "    <tr>\n",
              "      <th>88818</th>\n",
              "      <td>Craig S Rigler</td>\n",
              "      <td>Sr Fare Collections Receiver</td>\n",
              "      <td>82661.11</td>\n",
              "      <td>111594.30</td>\n",
              "    </tr>\n",
              "    <tr>\n",
              "      <th>88819</th>\n",
              "      <td>James A Cecil</td>\n",
              "      <td>Automotive Machinist</td>\n",
              "      <td>81737.82</td>\n",
              "      <td>111586.92</td>\n",
              "    </tr>\n",
              "    <tr>\n",
              "      <th>88820</th>\n",
              "      <td>Ramona  Torres</td>\n",
              "      <td>Emp &amp; Training Spec 2</td>\n",
              "      <td>81690.07</td>\n",
              "      <td>111577.88</td>\n",
              "    </tr>\n",
              "    <tr>\n",
              "      <th>88821</th>\n",
              "      <td>Gary R Farr</td>\n",
              "      <td>Transit Operat</td>\n",
              "      <td>NaN</td>\n",
              "      <td>NaN</td>\n",
              "    </tr>\n",
              "  </tbody>\n",
              "</table>\n",
              "<p>88822 rows × 4 columns</p>\n",
              "</div>\n",
              "      <button class=\"colab-df-convert\" onclick=\"convertToInteractive('df-6de6e731-da7e-4edc-ac05-e6eea88a8260')\"\n",
              "              title=\"Convert this dataframe to an interactive table.\"\n",
              "              style=\"display:none;\">\n",
              "        \n",
              "  <svg xmlns=\"http://www.w3.org/2000/svg\" height=\"24px\"viewBox=\"0 0 24 24\"\n",
              "       width=\"24px\">\n",
              "    <path d=\"M0 0h24v24H0V0z\" fill=\"none\"/>\n",
              "    <path d=\"M18.56 5.44l.94 2.06.94-2.06 2.06-.94-2.06-.94-.94-2.06-.94 2.06-2.06.94zm-11 1L8.5 8.5l.94-2.06 2.06-.94-2.06-.94L8.5 2.5l-.94 2.06-2.06.94zm10 10l.94 2.06.94-2.06 2.06-.94-2.06-.94-.94-2.06-.94 2.06-2.06.94z\"/><path d=\"M17.41 7.96l-1.37-1.37c-.4-.4-.92-.59-1.43-.59-.52 0-1.04.2-1.43.59L10.3 9.45l-7.72 7.72c-.78.78-.78 2.05 0 2.83L4 21.41c.39.39.9.59 1.41.59.51 0 1.02-.2 1.41-.59l7.78-7.78 2.81-2.81c.8-.78.8-2.07 0-2.86zM5.41 20L4 18.59l7.72-7.72 1.47 1.35L5.41 20z\"/>\n",
              "  </svg>\n",
              "      </button>\n",
              "      \n",
              "  <style>\n",
              "    .colab-df-container {\n",
              "      display:flex;\n",
              "      flex-wrap:wrap;\n",
              "      gap: 12px;\n",
              "    }\n",
              "\n",
              "    .colab-df-convert {\n",
              "      background-color: #E8F0FE;\n",
              "      border: none;\n",
              "      border-radius: 50%;\n",
              "      cursor: pointer;\n",
              "      display: none;\n",
              "      fill: #1967D2;\n",
              "      height: 32px;\n",
              "      padding: 0 0 0 0;\n",
              "      width: 32px;\n",
              "    }\n",
              "\n",
              "    .colab-df-convert:hover {\n",
              "      background-color: #E2EBFA;\n",
              "      box-shadow: 0px 1px 2px rgba(60, 64, 67, 0.3), 0px 1px 3px 1px rgba(60, 64, 67, 0.15);\n",
              "      fill: #174EA6;\n",
              "    }\n",
              "\n",
              "    [theme=dark] .colab-df-convert {\n",
              "      background-color: #3B4455;\n",
              "      fill: #D2E3FC;\n",
              "    }\n",
              "\n",
              "    [theme=dark] .colab-df-convert:hover {\n",
              "      background-color: #434B5C;\n",
              "      box-shadow: 0px 1px 3px 1px rgba(0, 0, 0, 0.15);\n",
              "      filter: drop-shadow(0px 1px 2px rgba(0, 0, 0, 0.3));\n",
              "      fill: #FFFFFF;\n",
              "    }\n",
              "  </style>\n",
              "\n",
              "      <script>\n",
              "        const buttonEl =\n",
              "          document.querySelector('#df-6de6e731-da7e-4edc-ac05-e6eea88a8260 button.colab-df-convert');\n",
              "        buttonEl.style.display =\n",
              "          google.colab.kernel.accessAllowed ? 'block' : 'none';\n",
              "\n",
              "        async function convertToInteractive(key) {\n",
              "          const element = document.querySelector('#df-6de6e731-da7e-4edc-ac05-e6eea88a8260');\n",
              "          const dataTable =\n",
              "            await google.colab.kernel.invokeFunction('convertToInteractive',\n",
              "                                                     [key], {});\n",
              "          if (!dataTable) return;\n",
              "\n",
              "          const docLinkHtml = 'Like what you see? Visit the ' +\n",
              "            '<a target=\"_blank\" href=https://colab.research.google.com/notebooks/data_table.ipynb>data table notebook</a>'\n",
              "            + ' to learn more about interactive tables.';\n",
              "          element.innerHTML = '';\n",
              "          dataTable['output_type'] = 'display_data';\n",
              "          await google.colab.output.renderOutput(dataTable, element);\n",
              "          const docLink = document.createElement('div');\n",
              "          docLink.innerHTML = docLinkHtml;\n",
              "          element.appendChild(docLink);\n",
              "        }\n",
              "      </script>\n",
              "    </div>\n",
              "  </div>\n",
              "  "
            ]
          },
          "metadata": {},
          "execution_count": 81
        }
      ],
      "source": [
        "# YOUR CODE IS HERE \n",
        "\n",
        "sal_new = df.loc[:, \"EmployeeName\" : \"TotalPayBenefits\"]\n",
        "df"
      ]
    },
    {
      "cell_type": "markdown",
      "metadata": {
        "id": "fL9Rn7i1ATKl"
      },
      "source": [
        "Desired Output:\n",
        "\n",
        "![image.png](https://i.ibb.co/s2CYS7H/assignment1f.png)"
      ]
    },
    {
      "cell_type": "markdown",
      "metadata": {
        "id": "GLNh6jmxAd_a"
      },
      "source": [
        "### Print out the names of the employees who earn more than min but less than avg."
      ]
    },
    {
      "cell_type": "code",
      "execution_count": 79,
      "metadata": {
        "id": "2lk1ZwS9Ad_a",
        "outputId": "0831631b-c52d-4335-b2ab-ce625ad522e9",
        "colab": {
          "base_uri": "https://localhost:8080/",
          "height": 424
        }
      },
      "outputs": [
        {
          "output_type": "execute_result",
          "data": {
            "text/plain": [
              "           EmployeeName  TotalPayBenefits\n",
              "9524       ERIKA KIEFER          99983.35\n",
              "9525     GREGORY DORAIS          99982.16\n",
              "9526     GRACE ENRIQUEZ          99962.70\n",
              "9527     RONALD SHEREDY          99961.59\n",
              "9528       MARY GODFREY          99961.33\n",
              "...                 ...               ...\n",
              "72920  Charles Williams             16.65\n",
              "72921      John Carajan             12.90\n",
              "72922       John Draper              5.17\n",
              "72923      Cherise Wong              4.16\n",
              "72924      Donald Clark              1.91\n",
              "\n",
              "[44555 rows x 2 columns]"
            ],
            "text/html": [
              "\n",
              "  <div id=\"df-5bc1c3dd-72b1-4d46-8d11-a6e2ff4b91af\">\n",
              "    <div class=\"colab-df-container\">\n",
              "      <div>\n",
              "<style scoped>\n",
              "    .dataframe tbody tr th:only-of-type {\n",
              "        vertical-align: middle;\n",
              "    }\n",
              "\n",
              "    .dataframe tbody tr th {\n",
              "        vertical-align: top;\n",
              "    }\n",
              "\n",
              "    .dataframe thead th {\n",
              "        text-align: right;\n",
              "    }\n",
              "</style>\n",
              "<table border=\"1\" class=\"dataframe\">\n",
              "  <thead>\n",
              "    <tr style=\"text-align: right;\">\n",
              "      <th></th>\n",
              "      <th>EmployeeName</th>\n",
              "      <th>TotalPayBenefits</th>\n",
              "    </tr>\n",
              "  </thead>\n",
              "  <tbody>\n",
              "    <tr>\n",
              "      <th>9524</th>\n",
              "      <td>ERIKA KIEFER</td>\n",
              "      <td>99983.35</td>\n",
              "    </tr>\n",
              "    <tr>\n",
              "      <th>9525</th>\n",
              "      <td>GREGORY DORAIS</td>\n",
              "      <td>99982.16</td>\n",
              "    </tr>\n",
              "    <tr>\n",
              "      <th>9526</th>\n",
              "      <td>GRACE ENRIQUEZ</td>\n",
              "      <td>99962.70</td>\n",
              "    </tr>\n",
              "    <tr>\n",
              "      <th>9527</th>\n",
              "      <td>RONALD SHEREDY</td>\n",
              "      <td>99961.59</td>\n",
              "    </tr>\n",
              "    <tr>\n",
              "      <th>9528</th>\n",
              "      <td>MARY GODFREY</td>\n",
              "      <td>99961.33</td>\n",
              "    </tr>\n",
              "    <tr>\n",
              "      <th>...</th>\n",
              "      <td>...</td>\n",
              "      <td>...</td>\n",
              "    </tr>\n",
              "    <tr>\n",
              "      <th>72920</th>\n",
              "      <td>Charles Williams</td>\n",
              "      <td>16.65</td>\n",
              "    </tr>\n",
              "    <tr>\n",
              "      <th>72921</th>\n",
              "      <td>John Carajan</td>\n",
              "      <td>12.90</td>\n",
              "    </tr>\n",
              "    <tr>\n",
              "      <th>72922</th>\n",
              "      <td>John Draper</td>\n",
              "      <td>5.17</td>\n",
              "    </tr>\n",
              "    <tr>\n",
              "      <th>72923</th>\n",
              "      <td>Cherise Wong</td>\n",
              "      <td>4.16</td>\n",
              "    </tr>\n",
              "    <tr>\n",
              "      <th>72924</th>\n",
              "      <td>Donald Clark</td>\n",
              "      <td>1.91</td>\n",
              "    </tr>\n",
              "  </tbody>\n",
              "</table>\n",
              "<p>44555 rows × 2 columns</p>\n",
              "</div>\n",
              "      <button class=\"colab-df-convert\" onclick=\"convertToInteractive('df-5bc1c3dd-72b1-4d46-8d11-a6e2ff4b91af')\"\n",
              "              title=\"Convert this dataframe to an interactive table.\"\n",
              "              style=\"display:none;\">\n",
              "        \n",
              "  <svg xmlns=\"http://www.w3.org/2000/svg\" height=\"24px\"viewBox=\"0 0 24 24\"\n",
              "       width=\"24px\">\n",
              "    <path d=\"M0 0h24v24H0V0z\" fill=\"none\"/>\n",
              "    <path d=\"M18.56 5.44l.94 2.06.94-2.06 2.06-.94-2.06-.94-.94-2.06-.94 2.06-2.06.94zm-11 1L8.5 8.5l.94-2.06 2.06-.94-2.06-.94L8.5 2.5l-.94 2.06-2.06.94zm10 10l.94 2.06.94-2.06 2.06-.94-2.06-.94-.94-2.06-.94 2.06-2.06.94z\"/><path d=\"M17.41 7.96l-1.37-1.37c-.4-.4-.92-.59-1.43-.59-.52 0-1.04.2-1.43.59L10.3 9.45l-7.72 7.72c-.78.78-.78 2.05 0 2.83L4 21.41c.39.39.9.59 1.41.59.51 0 1.02-.2 1.41-.59l7.78-7.78 2.81-2.81c.8-.78.8-2.07 0-2.86zM5.41 20L4 18.59l7.72-7.72 1.47 1.35L5.41 20z\"/>\n",
              "  </svg>\n",
              "      </button>\n",
              "      \n",
              "  <style>\n",
              "    .colab-df-container {\n",
              "      display:flex;\n",
              "      flex-wrap:wrap;\n",
              "      gap: 12px;\n",
              "    }\n",
              "\n",
              "    .colab-df-convert {\n",
              "      background-color: #E8F0FE;\n",
              "      border: none;\n",
              "      border-radius: 50%;\n",
              "      cursor: pointer;\n",
              "      display: none;\n",
              "      fill: #1967D2;\n",
              "      height: 32px;\n",
              "      padding: 0 0 0 0;\n",
              "      width: 32px;\n",
              "    }\n",
              "\n",
              "    .colab-df-convert:hover {\n",
              "      background-color: #E2EBFA;\n",
              "      box-shadow: 0px 1px 2px rgba(60, 64, 67, 0.3), 0px 1px 3px 1px rgba(60, 64, 67, 0.15);\n",
              "      fill: #174EA6;\n",
              "    }\n",
              "\n",
              "    [theme=dark] .colab-df-convert {\n",
              "      background-color: #3B4455;\n",
              "      fill: #D2E3FC;\n",
              "    }\n",
              "\n",
              "    [theme=dark] .colab-df-convert:hover {\n",
              "      background-color: #434B5C;\n",
              "      box-shadow: 0px 1px 3px 1px rgba(0, 0, 0, 0.15);\n",
              "      filter: drop-shadow(0px 1px 2px rgba(0, 0, 0, 0.3));\n",
              "      fill: #FFFFFF;\n",
              "    }\n",
              "  </style>\n",
              "\n",
              "      <script>\n",
              "        const buttonEl =\n",
              "          document.querySelector('#df-5bc1c3dd-72b1-4d46-8d11-a6e2ff4b91af button.colab-df-convert');\n",
              "        buttonEl.style.display =\n",
              "          google.colab.kernel.accessAllowed ? 'block' : 'none';\n",
              "\n",
              "        async function convertToInteractive(key) {\n",
              "          const element = document.querySelector('#df-5bc1c3dd-72b1-4d46-8d11-a6e2ff4b91af');\n",
              "          const dataTable =\n",
              "            await google.colab.kernel.invokeFunction('convertToInteractive',\n",
              "                                                     [key], {});\n",
              "          if (!dataTable) return;\n",
              "\n",
              "          const docLinkHtml = 'Like what you see? Visit the ' +\n",
              "            '<a target=\"_blank\" href=https://colab.research.google.com/notebooks/data_table.ipynb>data table notebook</a>'\n",
              "            + ' to learn more about interactive tables.';\n",
              "          element.innerHTML = '';\n",
              "          dataTable['output_type'] = 'display_data';\n",
              "          await google.colab.output.renderOutput(dataTable, element);\n",
              "          const docLink = document.createElement('div');\n",
              "          docLink.innerHTML = docLinkHtml;\n",
              "          element.appendChild(docLink);\n",
              "        }\n",
              "      </script>\n",
              "    </div>\n",
              "  </div>\n",
              "  "
            ]
          },
          "metadata": {},
          "execution_count": 79
        }
      ],
      "source": [
        "# YOUR CODE IS HERE \n",
        "df[(df[\"TotalPayBenefits\"] > df[\"TotalPayBenefits\"].min()) & (df[\"TotalPayBenefits\"] < df[\"TotalPayBenefits\"].mean())][[\"EmployeeName\",\"TotalPayBenefits\"]]\n"
      ]
    },
    {
      "cell_type": "markdown",
      "metadata": {
        "id": "PnsdZjnnAd_a"
      },
      "source": [
        "Desired Output:\n",
        "\n",
        "![image.png](https://i.ibb.co/mtNB2TX/assignment1g.png)"
      ]
    },
    {
      "cell_type": "markdown",
      "metadata": {
        "id": "wn1tZc0gATKm"
      },
      "source": [
        "<p style=\"text-align: center;\"><img src=\"https://docs.google.com/uc?id=1lY0Uj5R04yMY3-ZppPWxqCr5pvBLYPnV\" class=\"img-fluid\" \n",
        "alt=\"CLRSWY\"></p>\n",
        "\n",
        "## <p style=\"background-color:#FDFEFE; font-family:newtimeroman; color:#9d4f8c; font-size:100%; text-align:center; border-radius:10px 10px;\">WAY TO REINVENT YOURSELF</p>\n",
        "\n",
        "________"
      ]
    }
  ],
  "metadata": {
    "anaconda-cloud": {},
    "colab": {
      "name": "Data Analysis Assignment.ipynb",
      "provenance": []
    },
    "kernelspec": {
      "display_name": "Python 3 (ipykernel)",
      "language": "python",
      "name": "python3"
    },
    "language_info": {
      "codemirror_mode": {
        "name": "ipython",
        "version": 3
      },
      "file_extension": ".py",
      "mimetype": "text/x-python",
      "name": "python",
      "nbconvert_exporter": "python",
      "pygments_lexer": "ipython3",
      "version": "3.9.7"
    },
    "toc": {
      "base_numbering": 1,
      "nav_menu": {},
      "number_sections": false,
      "sideBar": true,
      "skip_h1_title": false,
      "title_cell": "Table of Contents",
      "title_sidebar": "Contents",
      "toc_cell": false,
      "toc_position": {},
      "toc_section_display": true,
      "toc_window_display": false
    }
  },
  "nbformat": 4,
  "nbformat_minor": 0
}